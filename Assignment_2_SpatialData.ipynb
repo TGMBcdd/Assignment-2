{
 "cells": [
  {
   "cell_type": "markdown",
   "metadata": {
    "id": "zXcSWW1PKL6V"
   },
   "source": [
    "# Assignment 2 - Spatial Data"
   ]
  },
  {
   "cell_type": "markdown",
   "metadata": {
    "id": "qx5CKsL7w0hO"
   },
   "source": [
    "***Student Name:***"
   ]
  },
  {
   "cell_type": "markdown",
   "metadata": {
    "id": "Dp_4qP2BKUlM"
   },
   "source": [
    "Thomas Braun"
   ]
  },
  {
   "cell_type": "markdown",
   "metadata": {
    "id": "wCUy75rbw0hR"
   },
   "source": [
    "***Student Number:***"
   ]
  },
  {
   "cell_type": "markdown",
   "metadata": {
    "id": "17Jc3AZbKba2"
   },
   "source": [
    "1487353"
   ]
  },
  {
   "cell_type": "markdown",
   "metadata": {
    "id": "z45FwNxZw0hT"
   },
   "source": [
    "In this assignment, you will be asked to use your knowledge about spatial correlation functions and spatial weights to visualize several world bank data sets. Please be aware that your code is only part of the grade (60%). The actual visualization as well as your analytical approach in interpretation of the results will be graded as well (40%). The dealine for this assignment is **on 2nd of November 2022, 23:55 PM**.\n",
    "\n",
    "\n",
    "**Submit the notebook, and a html version of your notebook via the github Classroom repo**. Please use your studentnumber as file name (i.e. s145678.ipynb and s145678.html). If you do not include both the notebook and the html file, your submission will NOT be considered.\n",
    "The easiest way to covert your notebook to an html file is to open it via jupyter notebook and then select File -> Download as -> HTML.  \n",
    "**Please try to do this multiple days before the deadline so we can help you if you run into problems!**\n",
    "\n",
    "Tasks:\n",
    "\n",
    "    1) select 2 SDGs \n",
    "    2) formulate your research questions \n",
    "    3) transform data into weight matrices, make Moran's plots and interpret them\n",
    "    4) display data in choropleth maps \n",
    "    5) answer your research questions in a short summary\n",
    " "
   ]
  },
  {
   "cell_type": "code",
   "execution_count": 96,
   "metadata": {},
   "outputs": [],
   "source": [
    "import numpy as np\n",
    "import pandas as pd\n",
    "import seaborn as sns\n",
    "import matplotlib.pyplot as plt\n",
    "import geopandas as gpd\n",
    "import libpysal as ps"
   ]
  },
  {
   "cell_type": "markdown",
   "metadata": {
    "id": "LhlR6w2qw0hW"
   },
   "source": [
    "## Task 1: Sustainable Development Goals & Shapefiles"
   ]
  },
  {
   "cell_type": "markdown",
   "metadata": {
    "id": "pULi3Jovw0hX"
   },
   "source": [
    "On this website: https://www.un.org/sustainabledevelopment/sustainable-development-goals/ the UN summarizes their sustainable development goals (SDGs). \n",
    "\n",
    "Select two goals to work on for this assignment.\n"
   ]
  },
  {
   "cell_type": "markdown",
   "metadata": {
    "id": "m1ZfzjTtw0ha"
   },
   "source": [
    "***I will be working on these two goals:***\n",
    "    "
   ]
  },
  {
   "cell_type": "markdown",
   "metadata": {
    "id": "hhWySj0hw0hc"
   },
   "source": [
    "- **Goal 4: Quality Education**\\\n",
    "        *Obtaining a quality education is the foundation to improving people’s lives and sustainable development.*\n",
    "- **Goal 10: Reduced Inequalities**\\\n",
    "        *To reduce inequalities, policies should be universal in principle, paying attention to the needs of disadvantaged and marginalized populations.*"
   ]
  },
  {
   "cell_type": "markdown",
   "metadata": {
    "id": "Gme3qsUXw0he"
   },
   "source": [
    "We would like you to focus on the African Continent for this exercise. Find shapefiles for the map of Africa and let us know where you found the shapefiles. Also let us know in which year the shapefiles were created and why this is relevant (hint: South Sudan). You might be able to find different shapefiles. Analyze your shapefiles. Like with any kind of \"real\" data, shapefiles can have *obstacles* that must be dealt with. For example, if your shapefile has islands, how do you define their adjacent countries? Shapefiles can also have *defects*. For example, an out of date shapefile might show old borders of a country, from when it used to border on another country that it's no longer adjacent to. Of course, if you're displaying historical data, that might be appropriate.\n",
    "We want you to examine your shapefiles for obstacles, defects and other peculiarities. How will you handle them? Motivate your choice to use these specific shapefiles."
   ]
  },
  {
   "cell_type": "markdown",
   "metadata": {
    "id": "kPlCTLo1w0hh"
   },
   "source": [
    "***Link to shapefiles:***"
   ]
  },
  {
   "cell_type": "markdown",
   "metadata": {
    "id": "I7y--GtOw0hj"
   },
   "source": [
    "https://hub.arcgis.com/datasets/07610d73964e4d39ab62c4245d548625/explore"
   ]
  },
  {
   "cell_type": "markdown",
   "metadata": {},
   "source": [
    "### Load data, remove superfluous Index column, and Rename Columns"
   ]
  },
  {
   "cell_type": "code",
   "execution_count": 97,
   "metadata": {},
   "outputs": [
    {
     "data": {
      "text/html": [
       "<div>\n",
       "<style scoped>\n",
       "    .dataframe tbody tr th:only-of-type {\n",
       "        vertical-align: middle;\n",
       "    }\n",
       "\n",
       "    .dataframe tbody tr th {\n",
       "        vertical-align: top;\n",
       "    }\n",
       "\n",
       "    .dataframe thead th {\n",
       "        text-align: right;\n",
       "    }\n",
       "</style>\n",
       "<table border=\"1\" class=\"dataframe\">\n",
       "  <thead>\n",
       "    <tr style=\"text-align: right;\">\n",
       "      <th></th>\n",
       "      <th>iso</th>\n",
       "      <th>country</th>\n",
       "      <th>continent</th>\n",
       "      <th>region</th>\n",
       "      <th>geometry</th>\n",
       "    </tr>\n",
       "    <tr>\n",
       "      <th>OBJECTID</th>\n",
       "      <th></th>\n",
       "      <th></th>\n",
       "      <th></th>\n",
       "      <th></th>\n",
       "      <th></th>\n",
       "    </tr>\n",
       "  </thead>\n",
       "  <tbody>\n",
       "    <tr>\n",
       "      <th>1</th>\n",
       "      <td>AGO</td>\n",
       "      <td>Angola</td>\n",
       "      <td>Africa</td>\n",
       "      <td>None</td>\n",
       "      <td>MULTIPOLYGON (((11.70236 -16.50764, 11.70236 -...</td>\n",
       "    </tr>\n",
       "    <tr>\n",
       "      <th>2</th>\n",
       "      <td>ATF</td>\n",
       "      <td>French Southern Territories</td>\n",
       "      <td>Africa</td>\n",
       "      <td>None</td>\n",
       "      <td>MULTIPOLYGON (((68.86333 -50.01889, 68.86166 -...</td>\n",
       "    </tr>\n",
       "    <tr>\n",
       "      <th>3</th>\n",
       "      <td>BDI</td>\n",
       "      <td>Burundi</td>\n",
       "      <td>Africa</td>\n",
       "      <td>Eastern_Africa</td>\n",
       "      <td>POLYGON ((30.41152 -2.31061, 30.41243 -2.31180...</td>\n",
       "    </tr>\n",
       "    <tr>\n",
       "      <th>4</th>\n",
       "      <td>BEN</td>\n",
       "      <td>Benin</td>\n",
       "      <td>Africa</td>\n",
       "      <td>None</td>\n",
       "      <td>MULTIPOLYGON (((1.87042 6.28819, 1.87042 6.287...</td>\n",
       "    </tr>\n",
       "    <tr>\n",
       "      <th>5</th>\n",
       "      <td>BFA</td>\n",
       "      <td>Burkina Faso</td>\n",
       "      <td>Africa</td>\n",
       "      <td>None</td>\n",
       "      <td>POLYGON ((-0.45567 15.08082, -0.44206 15.06812...</td>\n",
       "    </tr>\n",
       "    <tr>\n",
       "      <th>6</th>\n",
       "      <td>BWA</td>\n",
       "      <td>Botswana</td>\n",
       "      <td>Africa</td>\n",
       "      <td>None</td>\n",
       "      <td>POLYGON ((25.21502 -17.79051, 25.24286 -17.792...</td>\n",
       "    </tr>\n",
       "    <tr>\n",
       "      <th>7</th>\n",
       "      <td>CAF</td>\n",
       "      <td>Central African Republic</td>\n",
       "      <td>Africa</td>\n",
       "      <td>None</td>\n",
       "      <td>POLYGON ((22.54251 10.99812, 22.55266 10.99373...</td>\n",
       "    </tr>\n",
       "    <tr>\n",
       "      <th>8</th>\n",
       "      <td>CIV</td>\n",
       "      <td>Côte d'Ivoire</td>\n",
       "      <td>Africa</td>\n",
       "      <td>None</td>\n",
       "      <td>MULTIPOLYGON (((-6.66930 4.72958, -6.66930 4.7...</td>\n",
       "    </tr>\n",
       "    <tr>\n",
       "      <th>9</th>\n",
       "      <td>CMR</td>\n",
       "      <td>Cameroon</td>\n",
       "      <td>Africa</td>\n",
       "      <td>None</td>\n",
       "      <td>MULTIPOLYGON (((9.63403 3.56208, 9.63403 3.561...</td>\n",
       "    </tr>\n",
       "    <tr>\n",
       "      <th>10</th>\n",
       "      <td>COD</td>\n",
       "      <td>Democratic Republic of the Congo</td>\n",
       "      <td>Africa</td>\n",
       "      <td>None</td>\n",
       "      <td>MULTIPOLYGON (((12.45764 -6.02181, 12.45764 -6...</td>\n",
       "    </tr>\n",
       "    <tr>\n",
       "      <th>11</th>\n",
       "      <td>COG</td>\n",
       "      <td>Republic of Congo</td>\n",
       "      <td>Africa</td>\n",
       "      <td>None</td>\n",
       "      <td>MULTIPOLYGON (((11.69764 -4.46764, 11.69820 -4...</td>\n",
       "    </tr>\n",
       "    <tr>\n",
       "      <th>12</th>\n",
       "      <td>COM</td>\n",
       "      <td>Comoros</td>\n",
       "      <td>Africa</td>\n",
       "      <td>None</td>\n",
       "      <td>MULTIPOLYGON (((43.71569 -12.40097, 43.71569 -...</td>\n",
       "    </tr>\n",
       "    <tr>\n",
       "      <th>13</th>\n",
       "      <td>CPV</td>\n",
       "      <td>Cape Verde</td>\n",
       "      <td>Africa</td>\n",
       "      <td>None</td>\n",
       "      <td>MULTIPOLYGON (((-24.68264 14.90097, -24.68264 ...</td>\n",
       "    </tr>\n",
       "    <tr>\n",
       "      <th>14</th>\n",
       "      <td>DZA</td>\n",
       "      <td>Algeria</td>\n",
       "      <td>Africa</td>\n",
       "      <td>None</td>\n",
       "      <td>MULTIPOLYGON (((-1.63069 35.21958, -1.63069 35...</td>\n",
       "    </tr>\n",
       "    <tr>\n",
       "      <th>15</th>\n",
       "      <td>EGY</td>\n",
       "      <td>Egypt</td>\n",
       "      <td>Africa</td>\n",
       "      <td>None</td>\n",
       "      <td>MULTIPOLYGON (((36.24597 23.56542, 36.24597 23...</td>\n",
       "    </tr>\n",
       "    <tr>\n",
       "      <th>16</th>\n",
       "      <td>ERI</td>\n",
       "      <td>Eritrea</td>\n",
       "      <td>Africa</td>\n",
       "      <td>Eastern_Africa</td>\n",
       "      <td>MULTIPOLYGON (((42.93125 12.82153, 42.93125 12...</td>\n",
       "    </tr>\n",
       "    <tr>\n",
       "      <th>17</th>\n",
       "      <td>ESH</td>\n",
       "      <td>Western Sahara</td>\n",
       "      <td>Africa</td>\n",
       "      <td>None</td>\n",
       "      <td>MULTIPOLYGON (((-16.83569 22.15653, -16.83569 ...</td>\n",
       "    </tr>\n",
       "    <tr>\n",
       "      <th>18</th>\n",
       "      <td>ETH</td>\n",
       "      <td>Ethiopia</td>\n",
       "      <td>Africa</td>\n",
       "      <td>Eastern_Africa</td>\n",
       "      <td>POLYGON ((38.13777 14.68389, 38.14972 14.68278...</td>\n",
       "    </tr>\n",
       "    <tr>\n",
       "      <th>19</th>\n",
       "      <td>GAB</td>\n",
       "      <td>Gabon</td>\n",
       "      <td>Africa</td>\n",
       "      <td>None</td>\n",
       "      <td>MULTIPOLYGON (((11.15542 -3.95486, 11.15542 -3...</td>\n",
       "    </tr>\n",
       "    <tr>\n",
       "      <th>20</th>\n",
       "      <td>GHA</td>\n",
       "      <td>Ghana</td>\n",
       "      <td>Africa</td>\n",
       "      <td>None</td>\n",
       "      <td>MULTIPOLYGON (((-2.03542 4.75180, -2.03542 4.7...</td>\n",
       "    </tr>\n",
       "    <tr>\n",
       "      <th>21</th>\n",
       "      <td>GIN</td>\n",
       "      <td>Guinea</td>\n",
       "      <td>Africa</td>\n",
       "      <td>None</td>\n",
       "      <td>MULTIPOLYGON (((-13.32264 9.18292, -13.32264 9...</td>\n",
       "    </tr>\n",
       "    <tr>\n",
       "      <th>22</th>\n",
       "      <td>GMB</td>\n",
       "      <td>Gambia</td>\n",
       "      <td>Africa</td>\n",
       "      <td>None</td>\n",
       "      <td>MULTIPOLYGON (((-16.50931 13.36375, -16.50931 ...</td>\n",
       "    </tr>\n",
       "    <tr>\n",
       "      <th>23</th>\n",
       "      <td>GNB</td>\n",
       "      <td>Guinea-Bissau</td>\n",
       "      <td>Africa</td>\n",
       "      <td>None</td>\n",
       "      <td>MULTIPOLYGON (((-15.72069 10.87431, -15.72069 ...</td>\n",
       "    </tr>\n",
       "    <tr>\n",
       "      <th>24</th>\n",
       "      <td>GNQ</td>\n",
       "      <td>Equatorial Guinea</td>\n",
       "      <td>Africa</td>\n",
       "      <td>None</td>\n",
       "      <td>MULTIPOLYGON (((5.63208 -1.40347, 5.63208 -1.4...</td>\n",
       "    </tr>\n",
       "    <tr>\n",
       "      <th>25</th>\n",
       "      <td>KEN</td>\n",
       "      <td>Kenya</td>\n",
       "      <td>Africa</td>\n",
       "      <td>Eastern_Africa</td>\n",
       "      <td>MULTIPOLYGON (((39.37625 -4.71569, 39.37625 -4...</td>\n",
       "    </tr>\n",
       "    <tr>\n",
       "      <th>26</th>\n",
       "      <td>LBR</td>\n",
       "      <td>Liberia</td>\n",
       "      <td>Africa</td>\n",
       "      <td>None</td>\n",
       "      <td>MULTIPOLYGON (((-10.81264 6.34903, -10.81264 6...</td>\n",
       "    </tr>\n",
       "    <tr>\n",
       "      <th>27</th>\n",
       "      <td>LBY</td>\n",
       "      <td>Libya</td>\n",
       "      <td>Africa</td>\n",
       "      <td>None</td>\n",
       "      <td>MULTIPOLYGON (((19.87319 30.76041, 19.87319 30...</td>\n",
       "    </tr>\n",
       "    <tr>\n",
       "      <th>28</th>\n",
       "      <td>LSO</td>\n",
       "      <td>Lesotho</td>\n",
       "      <td>Africa</td>\n",
       "      <td>None</td>\n",
       "      <td>POLYGON ((28.68968 -28.58935, 28.69979 -28.600...</td>\n",
       "    </tr>\n",
       "    <tr>\n",
       "      <th>29</th>\n",
       "      <td>MAR</td>\n",
       "      <td>Morocco</td>\n",
       "      <td>Africa</td>\n",
       "      <td>None</td>\n",
       "      <td>MULTIPOLYGON (((-10.19625 29.36264, -10.19625 ...</td>\n",
       "    </tr>\n",
       "    <tr>\n",
       "      <th>30</th>\n",
       "      <td>MDG</td>\n",
       "      <td>Madagascar</td>\n",
       "      <td>Africa</td>\n",
       "      <td>None</td>\n",
       "      <td>MULTIPOLYGON (((44.33014 -25.26875, 44.33014 -...</td>\n",
       "    </tr>\n",
       "    <tr>\n",
       "      <th>31</th>\n",
       "      <td>MLI</td>\n",
       "      <td>Mali</td>\n",
       "      <td>Africa</td>\n",
       "      <td>None</td>\n",
       "      <td>POLYGON ((-5.00000 24.99800, -5.00000 24.99589...</td>\n",
       "    </tr>\n",
       "    <tr>\n",
       "      <th>32</th>\n",
       "      <td>MOZ</td>\n",
       "      <td>Mozambique</td>\n",
       "      <td>Africa</td>\n",
       "      <td>Southern Africa</td>\n",
       "      <td>MULTIPOLYGON (((32.88820 -26.28681, 32.88820 -...</td>\n",
       "    </tr>\n",
       "    <tr>\n",
       "      <th>33</th>\n",
       "      <td>MRT</td>\n",
       "      <td>Mauritania</td>\n",
       "      <td>Africa</td>\n",
       "      <td>None</td>\n",
       "      <td>MULTIPOLYGON (((-16.48764 19.64820, -16.48764 ...</td>\n",
       "    </tr>\n",
       "    <tr>\n",
       "      <th>34</th>\n",
       "      <td>MUS</td>\n",
       "      <td>Mauritius</td>\n",
       "      <td>Africa</td>\n",
       "      <td>None</td>\n",
       "      <td>MULTIPOLYGON (((57.33681 -20.46764, 57.33681 -...</td>\n",
       "    </tr>\n",
       "    <tr>\n",
       "      <th>35</th>\n",
       "      <td>MWI</td>\n",
       "      <td>Malawi</td>\n",
       "      <td>Africa</td>\n",
       "      <td>Southern Africa</td>\n",
       "      <td>POLYGON ((33.00374 -9.36812, 33.00397 -9.36815...</td>\n",
       "    </tr>\n",
       "    <tr>\n",
       "      <th>36</th>\n",
       "      <td>MYT</td>\n",
       "      <td>Mayotte</td>\n",
       "      <td>Africa</td>\n",
       "      <td>None</td>\n",
       "      <td>MULTIPOLYGON (((45.13903 -13.00042, 45.13903 -...</td>\n",
       "    </tr>\n",
       "    <tr>\n",
       "      <th>37</th>\n",
       "      <td>NAM</td>\n",
       "      <td>Namibia</td>\n",
       "      <td>Africa</td>\n",
       "      <td>None</td>\n",
       "      <td>MULTIPOLYGON (((16.28042 -28.50375, 16.28042 -...</td>\n",
       "    </tr>\n",
       "    <tr>\n",
       "      <th>38</th>\n",
       "      <td>NER</td>\n",
       "      <td>Niger</td>\n",
       "      <td>Africa</td>\n",
       "      <td>None</td>\n",
       "      <td>POLYGON ((11.98314 23.52222, 12.00000 23.51517...</td>\n",
       "    </tr>\n",
       "    <tr>\n",
       "      <th>39</th>\n",
       "      <td>NGA</td>\n",
       "      <td>Nigeria</td>\n",
       "      <td>Africa</td>\n",
       "      <td>None</td>\n",
       "      <td>MULTIPOLYGON (((6.44042 4.30875, 6.44042 4.307...</td>\n",
       "    </tr>\n",
       "    <tr>\n",
       "      <th>40</th>\n",
       "      <td>REU</td>\n",
       "      <td>Reunion</td>\n",
       "      <td>Africa</td>\n",
       "      <td>None</td>\n",
       "      <td>POLYGON ((55.45097 -20.87181, 55.45097 -20.872...</td>\n",
       "    </tr>\n",
       "    <tr>\n",
       "      <th>41</th>\n",
       "      <td>RWA</td>\n",
       "      <td>Rwanda</td>\n",
       "      <td>Africa</td>\n",
       "      <td>Eastern_Africa</td>\n",
       "      <td>POLYGON ((30.44742 -1.04523, 30.44778 -1.04534...</td>\n",
       "    </tr>\n",
       "    <tr>\n",
       "      <th>42</th>\n",
       "      <td>SDN</td>\n",
       "      <td>Sudan</td>\n",
       "      <td>Africa</td>\n",
       "      <td>Eastern_Africa</td>\n",
       "      <td>MULTIPOLYGON (((38.50542 18.07403, 38.50542 18...</td>\n",
       "    </tr>\n",
       "    <tr>\n",
       "      <th>43</th>\n",
       "      <td>SEN</td>\n",
       "      <td>Senegal</td>\n",
       "      <td>Africa</td>\n",
       "      <td>None</td>\n",
       "      <td>MULTIPOLYGON (((-16.67014 12.50125, -16.67014 ...</td>\n",
       "    </tr>\n",
       "    <tr>\n",
       "      <th>44</th>\n",
       "      <td>SLE</td>\n",
       "      <td>Sierra Leone</td>\n",
       "      <td>Africa</td>\n",
       "      <td>None</td>\n",
       "      <td>MULTIPOLYGON (((-11.53458 6.94403, -11.53458 6...</td>\n",
       "    </tr>\n",
       "    <tr>\n",
       "      <th>45</th>\n",
       "      <td>SOM</td>\n",
       "      <td>Somalia</td>\n",
       "      <td>Africa</td>\n",
       "      <td>Eastern_Africa</td>\n",
       "      <td>MULTIPOLYGON (((41.61375 -1.60792, 41.61375 -1...</td>\n",
       "    </tr>\n",
       "    <tr>\n",
       "      <th>46</th>\n",
       "      <td>SSD</td>\n",
       "      <td>South Sudan</td>\n",
       "      <td>Africa</td>\n",
       "      <td>Eastern_Africa</td>\n",
       "      <td>POLYGON ((32.72400 12.21900, 33.25525 12.20122...</td>\n",
       "    </tr>\n",
       "    <tr>\n",
       "      <th>47</th>\n",
       "      <td>STP</td>\n",
       "      <td>Sao Tome and Principe</td>\n",
       "      <td>Africa</td>\n",
       "      <td>None</td>\n",
       "      <td>MULTIPOLYGON (((6.52930 0.00403, 6.52930 0.003...</td>\n",
       "    </tr>\n",
       "    <tr>\n",
       "      <th>48</th>\n",
       "      <td>SWZ</td>\n",
       "      <td>Swaziland</td>\n",
       "      <td>Africa</td>\n",
       "      <td>None</td>\n",
       "      <td>POLYGON ((31.42995 -25.72308, 31.47514 -25.751...</td>\n",
       "    </tr>\n",
       "    <tr>\n",
       "      <th>49</th>\n",
       "      <td>SYC</td>\n",
       "      <td>Seychelles</td>\n",
       "      <td>Africa</td>\n",
       "      <td>None</td>\n",
       "      <td>MULTIPOLYGON (((51.13264 -10.22162, 51.13264 -...</td>\n",
       "    </tr>\n",
       "    <tr>\n",
       "      <th>50</th>\n",
       "      <td>TCD</td>\n",
       "      <td>Chad</td>\n",
       "      <td>Africa</td>\n",
       "      <td>None</td>\n",
       "      <td>POLYGON ((16.81695 23.07436, 16.82721 23.06800...</td>\n",
       "    </tr>\n",
       "    <tr>\n",
       "      <th>51</th>\n",
       "      <td>TGO</td>\n",
       "      <td>Togo</td>\n",
       "      <td>Africa</td>\n",
       "      <td>None</td>\n",
       "      <td>MULTIPOLYGON (((1.28820 6.13486, 1.28820 6.134...</td>\n",
       "    </tr>\n",
       "    <tr>\n",
       "      <th>52</th>\n",
       "      <td>TUN</td>\n",
       "      <td>Tunisia</td>\n",
       "      <td>Africa</td>\n",
       "      <td>None</td>\n",
       "      <td>MULTIPOLYGON (((11.45264 33.17486, 11.45264 33...</td>\n",
       "    </tr>\n",
       "    <tr>\n",
       "      <th>53</th>\n",
       "      <td>TZA</td>\n",
       "      <td>Tanzania</td>\n",
       "      <td>Africa</td>\n",
       "      <td>Eastern_Africa</td>\n",
       "      <td>MULTIPOLYGON (((40.40208 -10.42292, 40.40208 -...</td>\n",
       "    </tr>\n",
       "    <tr>\n",
       "      <th>54</th>\n",
       "      <td>UGA</td>\n",
       "      <td>Uganda</td>\n",
       "      <td>Africa</td>\n",
       "      <td>Eastern_Africa</td>\n",
       "      <td>POLYGON ((34.04736 4.17954, 34.05885 4.15747, ...</td>\n",
       "    </tr>\n",
       "    <tr>\n",
       "      <th>55</th>\n",
       "      <td>ZAF</td>\n",
       "      <td>South Africa</td>\n",
       "      <td>Africa</td>\n",
       "      <td>None</td>\n",
       "      <td>MULTIPOLYGON (((32.86097 -26.91042, 32.86097 -...</td>\n",
       "    </tr>\n",
       "    <tr>\n",
       "      <th>56</th>\n",
       "      <td>ZMB</td>\n",
       "      <td>Zambia</td>\n",
       "      <td>Africa</td>\n",
       "      <td>Southern Africa</td>\n",
       "      <td>POLYGON ((30.78600 -8.25276, 30.78676 -8.25460...</td>\n",
       "    </tr>\n",
       "    <tr>\n",
       "      <th>57</th>\n",
       "      <td>ZWE</td>\n",
       "      <td>Zimbabwe</td>\n",
       "      <td>Africa</td>\n",
       "      <td>Southern Africa</td>\n",
       "      <td>POLYGON ((29.90175 -15.62221, 29.90864 -15.623...</td>\n",
       "    </tr>\n",
       "  </tbody>\n",
       "</table>\n",
       "</div>"
      ],
      "text/plain": [
       "          iso                           country continent           region  \\\n",
       "OBJECTID                                                                     \n",
       "1         AGO                            Angola    Africa             None   \n",
       "2         ATF       French Southern Territories    Africa             None   \n",
       "3         BDI                           Burundi    Africa   Eastern_Africa   \n",
       "4         BEN                             Benin    Africa             None   \n",
       "5         BFA                      Burkina Faso    Africa             None   \n",
       "6         BWA                          Botswana    Africa             None   \n",
       "7         CAF          Central African Republic    Africa             None   \n",
       "8         CIV                     Côte d'Ivoire    Africa             None   \n",
       "9         CMR                          Cameroon    Africa             None   \n",
       "10        COD  Democratic Republic of the Congo    Africa             None   \n",
       "11        COG                 Republic of Congo    Africa             None   \n",
       "12        COM                           Comoros    Africa             None   \n",
       "13        CPV                        Cape Verde    Africa             None   \n",
       "14        DZA                           Algeria    Africa             None   \n",
       "15        EGY                             Egypt    Africa             None   \n",
       "16        ERI                           Eritrea    Africa   Eastern_Africa   \n",
       "17        ESH                    Western Sahara    Africa             None   \n",
       "18        ETH                          Ethiopia    Africa   Eastern_Africa   \n",
       "19        GAB                             Gabon    Africa             None   \n",
       "20        GHA                             Ghana    Africa             None   \n",
       "21        GIN                            Guinea    Africa             None   \n",
       "22        GMB                            Gambia    Africa             None   \n",
       "23        GNB                     Guinea-Bissau    Africa             None   \n",
       "24        GNQ                 Equatorial Guinea    Africa             None   \n",
       "25        KEN                             Kenya    Africa   Eastern_Africa   \n",
       "26        LBR                           Liberia    Africa             None   \n",
       "27        LBY                             Libya    Africa             None   \n",
       "28        LSO                           Lesotho    Africa             None   \n",
       "29        MAR                           Morocco    Africa             None   \n",
       "30        MDG                        Madagascar    Africa             None   \n",
       "31        MLI                              Mali    Africa             None   \n",
       "32        MOZ                        Mozambique    Africa  Southern Africa   \n",
       "33        MRT                        Mauritania    Africa             None   \n",
       "34        MUS                         Mauritius    Africa             None   \n",
       "35        MWI                            Malawi    Africa  Southern Africa   \n",
       "36        MYT                           Mayotte    Africa             None   \n",
       "37        NAM                           Namibia    Africa             None   \n",
       "38        NER                             Niger    Africa             None   \n",
       "39        NGA                           Nigeria    Africa             None   \n",
       "40        REU                           Reunion    Africa             None   \n",
       "41        RWA                            Rwanda    Africa   Eastern_Africa   \n",
       "42        SDN                             Sudan    Africa   Eastern_Africa   \n",
       "43        SEN                           Senegal    Africa             None   \n",
       "44        SLE                      Sierra Leone    Africa             None   \n",
       "45        SOM                           Somalia    Africa   Eastern_Africa   \n",
       "46        SSD                       South Sudan    Africa   Eastern_Africa   \n",
       "47        STP             Sao Tome and Principe    Africa             None   \n",
       "48        SWZ                         Swaziland    Africa             None   \n",
       "49        SYC                        Seychelles    Africa             None   \n",
       "50        TCD                              Chad    Africa             None   \n",
       "51        TGO                              Togo    Africa             None   \n",
       "52        TUN                           Tunisia    Africa             None   \n",
       "53        TZA                          Tanzania    Africa   Eastern_Africa   \n",
       "54        UGA                            Uganda    Africa   Eastern_Africa   \n",
       "55        ZAF                      South Africa    Africa             None   \n",
       "56        ZMB                            Zambia    Africa  Southern Africa   \n",
       "57        ZWE                          Zimbabwe    Africa  Southern Africa   \n",
       "\n",
       "                                                   geometry  \n",
       "OBJECTID                                                     \n",
       "1         MULTIPOLYGON (((11.70236 -16.50764, 11.70236 -...  \n",
       "2         MULTIPOLYGON (((68.86333 -50.01889, 68.86166 -...  \n",
       "3         POLYGON ((30.41152 -2.31061, 30.41243 -2.31180...  \n",
       "4         MULTIPOLYGON (((1.87042 6.28819, 1.87042 6.287...  \n",
       "5         POLYGON ((-0.45567 15.08082, -0.44206 15.06812...  \n",
       "6         POLYGON ((25.21502 -17.79051, 25.24286 -17.792...  \n",
       "7         POLYGON ((22.54251 10.99812, 22.55266 10.99373...  \n",
       "8         MULTIPOLYGON (((-6.66930 4.72958, -6.66930 4.7...  \n",
       "9         MULTIPOLYGON (((9.63403 3.56208, 9.63403 3.561...  \n",
       "10        MULTIPOLYGON (((12.45764 -6.02181, 12.45764 -6...  \n",
       "11        MULTIPOLYGON (((11.69764 -4.46764, 11.69820 -4...  \n",
       "12        MULTIPOLYGON (((43.71569 -12.40097, 43.71569 -...  \n",
       "13        MULTIPOLYGON (((-24.68264 14.90097, -24.68264 ...  \n",
       "14        MULTIPOLYGON (((-1.63069 35.21958, -1.63069 35...  \n",
       "15        MULTIPOLYGON (((36.24597 23.56542, 36.24597 23...  \n",
       "16        MULTIPOLYGON (((42.93125 12.82153, 42.93125 12...  \n",
       "17        MULTIPOLYGON (((-16.83569 22.15653, -16.83569 ...  \n",
       "18        POLYGON ((38.13777 14.68389, 38.14972 14.68278...  \n",
       "19        MULTIPOLYGON (((11.15542 -3.95486, 11.15542 -3...  \n",
       "20        MULTIPOLYGON (((-2.03542 4.75180, -2.03542 4.7...  \n",
       "21        MULTIPOLYGON (((-13.32264 9.18292, -13.32264 9...  \n",
       "22        MULTIPOLYGON (((-16.50931 13.36375, -16.50931 ...  \n",
       "23        MULTIPOLYGON (((-15.72069 10.87431, -15.72069 ...  \n",
       "24        MULTIPOLYGON (((5.63208 -1.40347, 5.63208 -1.4...  \n",
       "25        MULTIPOLYGON (((39.37625 -4.71569, 39.37625 -4...  \n",
       "26        MULTIPOLYGON (((-10.81264 6.34903, -10.81264 6...  \n",
       "27        MULTIPOLYGON (((19.87319 30.76041, 19.87319 30...  \n",
       "28        POLYGON ((28.68968 -28.58935, 28.69979 -28.600...  \n",
       "29        MULTIPOLYGON (((-10.19625 29.36264, -10.19625 ...  \n",
       "30        MULTIPOLYGON (((44.33014 -25.26875, 44.33014 -...  \n",
       "31        POLYGON ((-5.00000 24.99800, -5.00000 24.99589...  \n",
       "32        MULTIPOLYGON (((32.88820 -26.28681, 32.88820 -...  \n",
       "33        MULTIPOLYGON (((-16.48764 19.64820, -16.48764 ...  \n",
       "34        MULTIPOLYGON (((57.33681 -20.46764, 57.33681 -...  \n",
       "35        POLYGON ((33.00374 -9.36812, 33.00397 -9.36815...  \n",
       "36        MULTIPOLYGON (((45.13903 -13.00042, 45.13903 -...  \n",
       "37        MULTIPOLYGON (((16.28042 -28.50375, 16.28042 -...  \n",
       "38        POLYGON ((11.98314 23.52222, 12.00000 23.51517...  \n",
       "39        MULTIPOLYGON (((6.44042 4.30875, 6.44042 4.307...  \n",
       "40        POLYGON ((55.45097 -20.87181, 55.45097 -20.872...  \n",
       "41        POLYGON ((30.44742 -1.04523, 30.44778 -1.04534...  \n",
       "42        MULTIPOLYGON (((38.50542 18.07403, 38.50542 18...  \n",
       "43        MULTIPOLYGON (((-16.67014 12.50125, -16.67014 ...  \n",
       "44        MULTIPOLYGON (((-11.53458 6.94403, -11.53458 6...  \n",
       "45        MULTIPOLYGON (((41.61375 -1.60792, 41.61375 -1...  \n",
       "46        POLYGON ((32.72400 12.21900, 33.25525 12.20122...  \n",
       "47        MULTIPOLYGON (((6.52930 0.00403, 6.52930 0.003...  \n",
       "48        POLYGON ((31.42995 -25.72308, 31.47514 -25.751...  \n",
       "49        MULTIPOLYGON (((51.13264 -10.22162, 51.13264 -...  \n",
       "50        POLYGON ((16.81695 23.07436, 16.82721 23.06800...  \n",
       "51        MULTIPOLYGON (((1.28820 6.13486, 1.28820 6.134...  \n",
       "52        MULTIPOLYGON (((11.45264 33.17486, 11.45264 33...  \n",
       "53        MULTIPOLYGON (((40.40208 -10.42292, 40.40208 -...  \n",
       "54        POLYGON ((34.04736 4.17954, 34.05885 4.15747, ...  \n",
       "55        MULTIPOLYGON (((32.86097 -26.91042, 32.86097 -...  \n",
       "56        POLYGON ((30.78600 -8.25276, 30.78676 -8.25460...  \n",
       "57        POLYGON ((29.90175 -15.62221, 29.90864 -15.623...  "
      ]
     },
     "execution_count": 97,
     "metadata": {},
     "output_type": "execute_result"
    }
   ],
   "source": [
    "africa_shape = gpd.read_file('data/shape/Africa_Boundaries.shp')\n",
    "africa_df = africa_shape.set_index('OBJECTID')\n",
    "africa_df = africa_df.rename(columns={'ISO':'iso', 'NAME_0':'country', 'Continent':'continent', 'REgion':'region'})\n",
    "africa_df"
   ]
  },
  {
   "cell_type": "markdown",
   "metadata": {},
   "source": [
    "Many countries do not have their region annotated. Also, annotation is inconsistent, so redo all values of `region`.\n",
    "In addition, for future analysism make sure to distinguish between Sub-Saharan Africa and Mediterranean-Africa."
   ]
  },
  {
   "cell_type": "code",
   "execution_count": 98,
   "metadata": {},
   "outputs": [
    {
     "data": {
      "text/html": [
       "<div>\n",
       "<style scoped>\n",
       "    .dataframe tbody tr th:only-of-type {\n",
       "        vertical-align: middle;\n",
       "    }\n",
       "\n",
       "    .dataframe tbody tr th {\n",
       "        vertical-align: top;\n",
       "    }\n",
       "\n",
       "    .dataframe thead th {\n",
       "        text-align: right;\n",
       "    }\n",
       "</style>\n",
       "<table border=\"1\" class=\"dataframe\">\n",
       "  <thead>\n",
       "    <tr style=\"text-align: right;\">\n",
       "      <th></th>\n",
       "      <th>iso</th>\n",
       "      <th>country</th>\n",
       "      <th>continent</th>\n",
       "      <th>region</th>\n",
       "      <th>geometry</th>\n",
       "      <th>location</th>\n",
       "    </tr>\n",
       "    <tr>\n",
       "      <th>OBJECTID</th>\n",
       "      <th></th>\n",
       "      <th></th>\n",
       "      <th></th>\n",
       "      <th></th>\n",
       "      <th></th>\n",
       "      <th></th>\n",
       "    </tr>\n",
       "  </thead>\n",
       "  <tbody>\n",
       "    <tr>\n",
       "      <th>1</th>\n",
       "      <td>AGO</td>\n",
       "      <td>Angola</td>\n",
       "      <td>Africa</td>\n",
       "      <td>central_africa</td>\n",
       "      <td>MULTIPOLYGON (((11.70236 -16.50764, 11.70236 -...</td>\n",
       "      <td>sub-saharan-africa</td>\n",
       "    </tr>\n",
       "    <tr>\n",
       "      <th>2</th>\n",
       "      <td>ATF</td>\n",
       "      <td>French Southern Territories</td>\n",
       "      <td>Africa</td>\n",
       "      <td>eastern_africa</td>\n",
       "      <td>MULTIPOLYGON (((68.86333 -50.01889, 68.86166 -...</td>\n",
       "      <td>sub-saharan-africa</td>\n",
       "    </tr>\n",
       "    <tr>\n",
       "      <th>3</th>\n",
       "      <td>BDI</td>\n",
       "      <td>Burundi</td>\n",
       "      <td>Africa</td>\n",
       "      <td>eastern_africa</td>\n",
       "      <td>POLYGON ((30.41152 -2.31061, 30.41243 -2.31180...</td>\n",
       "      <td>sub-saharan-africa</td>\n",
       "    </tr>\n",
       "    <tr>\n",
       "      <th>4</th>\n",
       "      <td>BEN</td>\n",
       "      <td>Benin</td>\n",
       "      <td>Africa</td>\n",
       "      <td>western_africa</td>\n",
       "      <td>MULTIPOLYGON (((1.87042 6.28819, 1.87042 6.287...</td>\n",
       "      <td>sub-saharan-africa</td>\n",
       "    </tr>\n",
       "    <tr>\n",
       "      <th>5</th>\n",
       "      <td>BFA</td>\n",
       "      <td>Burkina Faso</td>\n",
       "      <td>Africa</td>\n",
       "      <td>western_africa</td>\n",
       "      <td>POLYGON ((-0.45567 15.08082, -0.44206 15.06812...</td>\n",
       "      <td>sub-saharan-africa</td>\n",
       "    </tr>\n",
       "    <tr>\n",
       "      <th>6</th>\n",
       "      <td>BWA</td>\n",
       "      <td>Botswana</td>\n",
       "      <td>Africa</td>\n",
       "      <td>southern_africa</td>\n",
       "      <td>POLYGON ((25.21502 -17.79051, 25.24286 -17.792...</td>\n",
       "      <td>sub-saharan-africa</td>\n",
       "    </tr>\n",
       "    <tr>\n",
       "      <th>7</th>\n",
       "      <td>CAF</td>\n",
       "      <td>Central African Republic</td>\n",
       "      <td>Africa</td>\n",
       "      <td>central_africa</td>\n",
       "      <td>POLYGON ((22.54251 10.99812, 22.55266 10.99373...</td>\n",
       "      <td>sub-saharan-africa</td>\n",
       "    </tr>\n",
       "    <tr>\n",
       "      <th>8</th>\n",
       "      <td>CIV</td>\n",
       "      <td>Côte d'Ivoire</td>\n",
       "      <td>Africa</td>\n",
       "      <td>western_africa</td>\n",
       "      <td>MULTIPOLYGON (((-6.66930 4.72958, -6.66930 4.7...</td>\n",
       "      <td>sub-saharan-africa</td>\n",
       "    </tr>\n",
       "    <tr>\n",
       "      <th>9</th>\n",
       "      <td>CMR</td>\n",
       "      <td>Cameroon</td>\n",
       "      <td>Africa</td>\n",
       "      <td>central_africa</td>\n",
       "      <td>MULTIPOLYGON (((9.63403 3.56208, 9.63403 3.561...</td>\n",
       "      <td>sub-saharan-africa</td>\n",
       "    </tr>\n",
       "    <tr>\n",
       "      <th>10</th>\n",
       "      <td>COD</td>\n",
       "      <td>Democratic Republic of the Congo</td>\n",
       "      <td>Africa</td>\n",
       "      <td>central_africa</td>\n",
       "      <td>MULTIPOLYGON (((12.45764 -6.02181, 12.45764 -6...</td>\n",
       "      <td>sub-saharan-africa</td>\n",
       "    </tr>\n",
       "    <tr>\n",
       "      <th>11</th>\n",
       "      <td>COG</td>\n",
       "      <td>Republic of Congo</td>\n",
       "      <td>Africa</td>\n",
       "      <td>central_africa</td>\n",
       "      <td>MULTIPOLYGON (((11.69764 -4.46764, 11.69820 -4...</td>\n",
       "      <td>sub-saharan-africa</td>\n",
       "    </tr>\n",
       "    <tr>\n",
       "      <th>12</th>\n",
       "      <td>COM</td>\n",
       "      <td>Comoros</td>\n",
       "      <td>Africa</td>\n",
       "      <td>eastern_africa</td>\n",
       "      <td>MULTIPOLYGON (((43.71569 -12.40097, 43.71569 -...</td>\n",
       "      <td>sub-saharan-africa</td>\n",
       "    </tr>\n",
       "    <tr>\n",
       "      <th>13</th>\n",
       "      <td>CPV</td>\n",
       "      <td>Cape Verde</td>\n",
       "      <td>Africa</td>\n",
       "      <td>western_africa</td>\n",
       "      <td>MULTIPOLYGON (((-24.68264 14.90097, -24.68264 ...</td>\n",
       "      <td>sub-saharan-africa</td>\n",
       "    </tr>\n",
       "    <tr>\n",
       "      <th>14</th>\n",
       "      <td>DZA</td>\n",
       "      <td>Algeria</td>\n",
       "      <td>Africa</td>\n",
       "      <td>northern_africa</td>\n",
       "      <td>MULTIPOLYGON (((-1.63069 35.21958, -1.63069 35...</td>\n",
       "      <td>mediterranean-africa</td>\n",
       "    </tr>\n",
       "    <tr>\n",
       "      <th>15</th>\n",
       "      <td>EGY</td>\n",
       "      <td>Egypt</td>\n",
       "      <td>Africa</td>\n",
       "      <td>northern_africa</td>\n",
       "      <td>MULTIPOLYGON (((36.24597 23.56542, 36.24597 23...</td>\n",
       "      <td>mediterranean-africa</td>\n",
       "    </tr>\n",
       "    <tr>\n",
       "      <th>16</th>\n",
       "      <td>ERI</td>\n",
       "      <td>Eritrea</td>\n",
       "      <td>Africa</td>\n",
       "      <td>eastern_africa</td>\n",
       "      <td>MULTIPOLYGON (((42.93125 12.82153, 42.93125 12...</td>\n",
       "      <td>sub-saharan-africa</td>\n",
       "    </tr>\n",
       "    <tr>\n",
       "      <th>17</th>\n",
       "      <td>ESH</td>\n",
       "      <td>Western Sahara</td>\n",
       "      <td>Africa</td>\n",
       "      <td>northern_africa</td>\n",
       "      <td>MULTIPOLYGON (((-16.83569 22.15653, -16.83569 ...</td>\n",
       "      <td>mediterranean-africa</td>\n",
       "    </tr>\n",
       "    <tr>\n",
       "      <th>18</th>\n",
       "      <td>ETH</td>\n",
       "      <td>Ethiopia</td>\n",
       "      <td>Africa</td>\n",
       "      <td>eastern_africa</td>\n",
       "      <td>POLYGON ((38.13777 14.68389, 38.14972 14.68278...</td>\n",
       "      <td>sub-saharan-africa</td>\n",
       "    </tr>\n",
       "    <tr>\n",
       "      <th>19</th>\n",
       "      <td>GAB</td>\n",
       "      <td>Gabon</td>\n",
       "      <td>Africa</td>\n",
       "      <td>central_africa</td>\n",
       "      <td>MULTIPOLYGON (((11.15542 -3.95486, 11.15542 -3...</td>\n",
       "      <td>sub-saharan-africa</td>\n",
       "    </tr>\n",
       "    <tr>\n",
       "      <th>20</th>\n",
       "      <td>GHA</td>\n",
       "      <td>Ghana</td>\n",
       "      <td>Africa</td>\n",
       "      <td>western_africa</td>\n",
       "      <td>MULTIPOLYGON (((-2.03542 4.75180, -2.03542 4.7...</td>\n",
       "      <td>sub-saharan-africa</td>\n",
       "    </tr>\n",
       "    <tr>\n",
       "      <th>21</th>\n",
       "      <td>GIN</td>\n",
       "      <td>Guinea</td>\n",
       "      <td>Africa</td>\n",
       "      <td>western_africa</td>\n",
       "      <td>MULTIPOLYGON (((-13.32264 9.18292, -13.32264 9...</td>\n",
       "      <td>sub-saharan-africa</td>\n",
       "    </tr>\n",
       "    <tr>\n",
       "      <th>22</th>\n",
       "      <td>GMB</td>\n",
       "      <td>Gambia</td>\n",
       "      <td>Africa</td>\n",
       "      <td>western_africa</td>\n",
       "      <td>MULTIPOLYGON (((-16.50931 13.36375, -16.50931 ...</td>\n",
       "      <td>sub-saharan-africa</td>\n",
       "    </tr>\n",
       "    <tr>\n",
       "      <th>23</th>\n",
       "      <td>GNB</td>\n",
       "      <td>Guinea-Bissau</td>\n",
       "      <td>Africa</td>\n",
       "      <td>western_africa</td>\n",
       "      <td>MULTIPOLYGON (((-15.72069 10.87431, -15.72069 ...</td>\n",
       "      <td>sub-saharan-africa</td>\n",
       "    </tr>\n",
       "    <tr>\n",
       "      <th>24</th>\n",
       "      <td>GNQ</td>\n",
       "      <td>Equatorial Guinea</td>\n",
       "      <td>Africa</td>\n",
       "      <td>central_africa</td>\n",
       "      <td>MULTIPOLYGON (((5.63208 -1.40347, 5.63208 -1.4...</td>\n",
       "      <td>sub-saharan-africa</td>\n",
       "    </tr>\n",
       "    <tr>\n",
       "      <th>25</th>\n",
       "      <td>KEN</td>\n",
       "      <td>Kenya</td>\n",
       "      <td>Africa</td>\n",
       "      <td>eastern_africa</td>\n",
       "      <td>MULTIPOLYGON (((39.37625 -4.71569, 39.37625 -4...</td>\n",
       "      <td>sub-saharan-africa</td>\n",
       "    </tr>\n",
       "    <tr>\n",
       "      <th>26</th>\n",
       "      <td>LBR</td>\n",
       "      <td>Liberia</td>\n",
       "      <td>Africa</td>\n",
       "      <td>western_africa</td>\n",
       "      <td>MULTIPOLYGON (((-10.81264 6.34903, -10.81264 6...</td>\n",
       "      <td>sub-saharan-africa</td>\n",
       "    </tr>\n",
       "    <tr>\n",
       "      <th>27</th>\n",
       "      <td>LBY</td>\n",
       "      <td>Libya</td>\n",
       "      <td>Africa</td>\n",
       "      <td>northern_africa</td>\n",
       "      <td>MULTIPOLYGON (((19.87319 30.76041, 19.87319 30...</td>\n",
       "      <td>mediterranean-africa</td>\n",
       "    </tr>\n",
       "    <tr>\n",
       "      <th>28</th>\n",
       "      <td>LSO</td>\n",
       "      <td>Lesotho</td>\n",
       "      <td>Africa</td>\n",
       "      <td>southern_africa</td>\n",
       "      <td>POLYGON ((28.68968 -28.58935, 28.69979 -28.600...</td>\n",
       "      <td>sub-saharan-africa</td>\n",
       "    </tr>\n",
       "    <tr>\n",
       "      <th>29</th>\n",
       "      <td>MAR</td>\n",
       "      <td>Morocco</td>\n",
       "      <td>Africa</td>\n",
       "      <td>northern_africa</td>\n",
       "      <td>MULTIPOLYGON (((-10.19625 29.36264, -10.19625 ...</td>\n",
       "      <td>mediterranean-africa</td>\n",
       "    </tr>\n",
       "    <tr>\n",
       "      <th>30</th>\n",
       "      <td>MDG</td>\n",
       "      <td>Madagascar</td>\n",
       "      <td>Africa</td>\n",
       "      <td>eastern_africa</td>\n",
       "      <td>MULTIPOLYGON (((44.33014 -25.26875, 44.33014 -...</td>\n",
       "      <td>sub-saharan-africa</td>\n",
       "    </tr>\n",
       "    <tr>\n",
       "      <th>31</th>\n",
       "      <td>MLI</td>\n",
       "      <td>Mali</td>\n",
       "      <td>Africa</td>\n",
       "      <td>western_africa</td>\n",
       "      <td>POLYGON ((-5.00000 24.99800, -5.00000 24.99589...</td>\n",
       "      <td>sub-saharan-africa</td>\n",
       "    </tr>\n",
       "    <tr>\n",
       "      <th>32</th>\n",
       "      <td>MOZ</td>\n",
       "      <td>Mozambique</td>\n",
       "      <td>Africa</td>\n",
       "      <td>eastern_africa</td>\n",
       "      <td>MULTIPOLYGON (((32.88820 -26.28681, 32.88820 -...</td>\n",
       "      <td>sub-saharan-africa</td>\n",
       "    </tr>\n",
       "    <tr>\n",
       "      <th>33</th>\n",
       "      <td>MRT</td>\n",
       "      <td>Mauritania</td>\n",
       "      <td>Africa</td>\n",
       "      <td>western_africa</td>\n",
       "      <td>MULTIPOLYGON (((-16.48764 19.64820, -16.48764 ...</td>\n",
       "      <td>sub-saharan-africa</td>\n",
       "    </tr>\n",
       "    <tr>\n",
       "      <th>34</th>\n",
       "      <td>MUS</td>\n",
       "      <td>Mauritius</td>\n",
       "      <td>Africa</td>\n",
       "      <td>eastern_africa</td>\n",
       "      <td>MULTIPOLYGON (((57.33681 -20.46764, 57.33681 -...</td>\n",
       "      <td>sub-saharan-africa</td>\n",
       "    </tr>\n",
       "    <tr>\n",
       "      <th>35</th>\n",
       "      <td>MWI</td>\n",
       "      <td>Malawi</td>\n",
       "      <td>Africa</td>\n",
       "      <td>eastern_africa</td>\n",
       "      <td>POLYGON ((33.00374 -9.36812, 33.00397 -9.36815...</td>\n",
       "      <td>sub-saharan-africa</td>\n",
       "    </tr>\n",
       "    <tr>\n",
       "      <th>36</th>\n",
       "      <td>MYT</td>\n",
       "      <td>Mayotte</td>\n",
       "      <td>Africa</td>\n",
       "      <td>eastern_africa</td>\n",
       "      <td>MULTIPOLYGON (((45.13903 -13.00042, 45.13903 -...</td>\n",
       "      <td>sub-saharan-africa</td>\n",
       "    </tr>\n",
       "    <tr>\n",
       "      <th>37</th>\n",
       "      <td>NAM</td>\n",
       "      <td>Namibia</td>\n",
       "      <td>Africa</td>\n",
       "      <td>southern_africa</td>\n",
       "      <td>MULTIPOLYGON (((16.28042 -28.50375, 16.28042 -...</td>\n",
       "      <td>sub-saharan-africa</td>\n",
       "    </tr>\n",
       "    <tr>\n",
       "      <th>38</th>\n",
       "      <td>NER</td>\n",
       "      <td>Niger</td>\n",
       "      <td>Africa</td>\n",
       "      <td>western_africa</td>\n",
       "      <td>POLYGON ((11.98314 23.52222, 12.00000 23.51517...</td>\n",
       "      <td>sub-saharan-africa</td>\n",
       "    </tr>\n",
       "    <tr>\n",
       "      <th>39</th>\n",
       "      <td>NGA</td>\n",
       "      <td>Nigeria</td>\n",
       "      <td>Africa</td>\n",
       "      <td>western_africa</td>\n",
       "      <td>MULTIPOLYGON (((6.44042 4.30875, 6.44042 4.307...</td>\n",
       "      <td>sub-saharan-africa</td>\n",
       "    </tr>\n",
       "    <tr>\n",
       "      <th>40</th>\n",
       "      <td>REU</td>\n",
       "      <td>Reunion</td>\n",
       "      <td>Africa</td>\n",
       "      <td>eastern_africa</td>\n",
       "      <td>POLYGON ((55.45097 -20.87181, 55.45097 -20.872...</td>\n",
       "      <td>sub-saharan-africa</td>\n",
       "    </tr>\n",
       "    <tr>\n",
       "      <th>41</th>\n",
       "      <td>RWA</td>\n",
       "      <td>Rwanda</td>\n",
       "      <td>Africa</td>\n",
       "      <td>eastern_africa</td>\n",
       "      <td>POLYGON ((30.44742 -1.04523, 30.44778 -1.04534...</td>\n",
       "      <td>sub-saharan-africa</td>\n",
       "    </tr>\n",
       "    <tr>\n",
       "      <th>42</th>\n",
       "      <td>SDN</td>\n",
       "      <td>Sudan</td>\n",
       "      <td>Africa</td>\n",
       "      <td>eastern_africa</td>\n",
       "      <td>MULTIPOLYGON (((38.50542 18.07403, 38.50542 18...</td>\n",
       "      <td>sub-saharan-africa</td>\n",
       "    </tr>\n",
       "    <tr>\n",
       "      <th>43</th>\n",
       "      <td>SEN</td>\n",
       "      <td>Senegal</td>\n",
       "      <td>Africa</td>\n",
       "      <td>western_africa</td>\n",
       "      <td>MULTIPOLYGON (((-16.67014 12.50125, -16.67014 ...</td>\n",
       "      <td>sub-saharan-africa</td>\n",
       "    </tr>\n",
       "    <tr>\n",
       "      <th>44</th>\n",
       "      <td>SLE</td>\n",
       "      <td>Sierra Leone</td>\n",
       "      <td>Africa</td>\n",
       "      <td>western_africa</td>\n",
       "      <td>MULTIPOLYGON (((-11.53458 6.94403, -11.53458 6...</td>\n",
       "      <td>sub-saharan-africa</td>\n",
       "    </tr>\n",
       "    <tr>\n",
       "      <th>45</th>\n",
       "      <td>SOM</td>\n",
       "      <td>Somalia</td>\n",
       "      <td>Africa</td>\n",
       "      <td>eastern_africa</td>\n",
       "      <td>MULTIPOLYGON (((41.61375 -1.60792, 41.61375 -1...</td>\n",
       "      <td>sub-saharan-africa</td>\n",
       "    </tr>\n",
       "    <tr>\n",
       "      <th>46</th>\n",
       "      <td>SSD</td>\n",
       "      <td>South Sudan</td>\n",
       "      <td>Africa</td>\n",
       "      <td>eastern_africa</td>\n",
       "      <td>POLYGON ((32.72400 12.21900, 33.25525 12.20122...</td>\n",
       "      <td>sub-saharan-africa</td>\n",
       "    </tr>\n",
       "    <tr>\n",
       "      <th>47</th>\n",
       "      <td>STP</td>\n",
       "      <td>Sao Tome and Principe</td>\n",
       "      <td>Africa</td>\n",
       "      <td>central_africa</td>\n",
       "      <td>MULTIPOLYGON (((6.52930 0.00403, 6.52930 0.003...</td>\n",
       "      <td>sub-saharan-africa</td>\n",
       "    </tr>\n",
       "    <tr>\n",
       "      <th>48</th>\n",
       "      <td>SWZ</td>\n",
       "      <td>Swaziland</td>\n",
       "      <td>Africa</td>\n",
       "      <td>southern_africa</td>\n",
       "      <td>POLYGON ((31.42995 -25.72308, 31.47514 -25.751...</td>\n",
       "      <td>sub-saharan-africa</td>\n",
       "    </tr>\n",
       "    <tr>\n",
       "      <th>49</th>\n",
       "      <td>SYC</td>\n",
       "      <td>Seychelles</td>\n",
       "      <td>Africa</td>\n",
       "      <td>eastern_africa</td>\n",
       "      <td>MULTIPOLYGON (((51.13264 -10.22162, 51.13264 -...</td>\n",
       "      <td>sub-saharan-africa</td>\n",
       "    </tr>\n",
       "    <tr>\n",
       "      <th>50</th>\n",
       "      <td>TCD</td>\n",
       "      <td>Chad</td>\n",
       "      <td>Africa</td>\n",
       "      <td>central_africa</td>\n",
       "      <td>POLYGON ((16.81695 23.07436, 16.82721 23.06800...</td>\n",
       "      <td>sub-saharan-africa</td>\n",
       "    </tr>\n",
       "    <tr>\n",
       "      <th>51</th>\n",
       "      <td>TGO</td>\n",
       "      <td>Togo</td>\n",
       "      <td>Africa</td>\n",
       "      <td>western_africa</td>\n",
       "      <td>MULTIPOLYGON (((1.28820 6.13486, 1.28820 6.134...</td>\n",
       "      <td>sub-saharan-africa</td>\n",
       "    </tr>\n",
       "    <tr>\n",
       "      <th>52</th>\n",
       "      <td>TUN</td>\n",
       "      <td>Tunisia</td>\n",
       "      <td>Africa</td>\n",
       "      <td>northern_africa</td>\n",
       "      <td>MULTIPOLYGON (((11.45264 33.17486, 11.45264 33...</td>\n",
       "      <td>mediterranean-africa</td>\n",
       "    </tr>\n",
       "    <tr>\n",
       "      <th>53</th>\n",
       "      <td>TZA</td>\n",
       "      <td>Tanzania</td>\n",
       "      <td>Africa</td>\n",
       "      <td>eastern_africa</td>\n",
       "      <td>MULTIPOLYGON (((40.40208 -10.42292, 40.40208 -...</td>\n",
       "      <td>sub-saharan-africa</td>\n",
       "    </tr>\n",
       "    <tr>\n",
       "      <th>54</th>\n",
       "      <td>UGA</td>\n",
       "      <td>Uganda</td>\n",
       "      <td>Africa</td>\n",
       "      <td>eastern_africa</td>\n",
       "      <td>POLYGON ((34.04736 4.17954, 34.05885 4.15747, ...</td>\n",
       "      <td>sub-saharan-africa</td>\n",
       "    </tr>\n",
       "    <tr>\n",
       "      <th>55</th>\n",
       "      <td>ZAF</td>\n",
       "      <td>South Africa</td>\n",
       "      <td>Africa</td>\n",
       "      <td>southern_africa</td>\n",
       "      <td>MULTIPOLYGON (((32.86097 -26.91042, 32.86097 -...</td>\n",
       "      <td>sub-saharan-africa</td>\n",
       "    </tr>\n",
       "    <tr>\n",
       "      <th>56</th>\n",
       "      <td>ZMB</td>\n",
       "      <td>Zambia</td>\n",
       "      <td>Africa</td>\n",
       "      <td>eastern_africa</td>\n",
       "      <td>POLYGON ((30.78600 -8.25276, 30.78676 -8.25460...</td>\n",
       "      <td>sub-saharan-africa</td>\n",
       "    </tr>\n",
       "    <tr>\n",
       "      <th>57</th>\n",
       "      <td>ZWE</td>\n",
       "      <td>Zimbabwe</td>\n",
       "      <td>Africa</td>\n",
       "      <td>eastern_africa</td>\n",
       "      <td>POLYGON ((29.90175 -15.62221, 29.90864 -15.623...</td>\n",
       "      <td>sub-saharan-africa</td>\n",
       "    </tr>\n",
       "  </tbody>\n",
       "</table>\n",
       "</div>"
      ],
      "text/plain": [
       "          iso                           country continent           region  \\\n",
       "OBJECTID                                                                     \n",
       "1         AGO                            Angola    Africa   central_africa   \n",
       "2         ATF       French Southern Territories    Africa   eastern_africa   \n",
       "3         BDI                           Burundi    Africa   eastern_africa   \n",
       "4         BEN                             Benin    Africa   western_africa   \n",
       "5         BFA                      Burkina Faso    Africa   western_africa   \n",
       "6         BWA                          Botswana    Africa  southern_africa   \n",
       "7         CAF          Central African Republic    Africa   central_africa   \n",
       "8         CIV                     Côte d'Ivoire    Africa   western_africa   \n",
       "9         CMR                          Cameroon    Africa   central_africa   \n",
       "10        COD  Democratic Republic of the Congo    Africa   central_africa   \n",
       "11        COG                 Republic of Congo    Africa   central_africa   \n",
       "12        COM                           Comoros    Africa   eastern_africa   \n",
       "13        CPV                        Cape Verde    Africa   western_africa   \n",
       "14        DZA                           Algeria    Africa  northern_africa   \n",
       "15        EGY                             Egypt    Africa  northern_africa   \n",
       "16        ERI                           Eritrea    Africa   eastern_africa   \n",
       "17        ESH                    Western Sahara    Africa  northern_africa   \n",
       "18        ETH                          Ethiopia    Africa   eastern_africa   \n",
       "19        GAB                             Gabon    Africa   central_africa   \n",
       "20        GHA                             Ghana    Africa   western_africa   \n",
       "21        GIN                            Guinea    Africa   western_africa   \n",
       "22        GMB                            Gambia    Africa   western_africa   \n",
       "23        GNB                     Guinea-Bissau    Africa   western_africa   \n",
       "24        GNQ                 Equatorial Guinea    Africa   central_africa   \n",
       "25        KEN                             Kenya    Africa   eastern_africa   \n",
       "26        LBR                           Liberia    Africa   western_africa   \n",
       "27        LBY                             Libya    Africa  northern_africa   \n",
       "28        LSO                           Lesotho    Africa  southern_africa   \n",
       "29        MAR                           Morocco    Africa  northern_africa   \n",
       "30        MDG                        Madagascar    Africa   eastern_africa   \n",
       "31        MLI                              Mali    Africa   western_africa   \n",
       "32        MOZ                        Mozambique    Africa   eastern_africa   \n",
       "33        MRT                        Mauritania    Africa   western_africa   \n",
       "34        MUS                         Mauritius    Africa   eastern_africa   \n",
       "35        MWI                            Malawi    Africa   eastern_africa   \n",
       "36        MYT                           Mayotte    Africa   eastern_africa   \n",
       "37        NAM                           Namibia    Africa  southern_africa   \n",
       "38        NER                             Niger    Africa   western_africa   \n",
       "39        NGA                           Nigeria    Africa   western_africa   \n",
       "40        REU                           Reunion    Africa   eastern_africa   \n",
       "41        RWA                            Rwanda    Africa   eastern_africa   \n",
       "42        SDN                             Sudan    Africa   eastern_africa   \n",
       "43        SEN                           Senegal    Africa   western_africa   \n",
       "44        SLE                      Sierra Leone    Africa   western_africa   \n",
       "45        SOM                           Somalia    Africa   eastern_africa   \n",
       "46        SSD                       South Sudan    Africa   eastern_africa   \n",
       "47        STP             Sao Tome and Principe    Africa   central_africa   \n",
       "48        SWZ                         Swaziland    Africa  southern_africa   \n",
       "49        SYC                        Seychelles    Africa   eastern_africa   \n",
       "50        TCD                              Chad    Africa   central_africa   \n",
       "51        TGO                              Togo    Africa   western_africa   \n",
       "52        TUN                           Tunisia    Africa  northern_africa   \n",
       "53        TZA                          Tanzania    Africa   eastern_africa   \n",
       "54        UGA                            Uganda    Africa   eastern_africa   \n",
       "55        ZAF                      South Africa    Africa  southern_africa   \n",
       "56        ZMB                            Zambia    Africa   eastern_africa   \n",
       "57        ZWE                          Zimbabwe    Africa   eastern_africa   \n",
       "\n",
       "                                                   geometry  \\\n",
       "OBJECTID                                                      \n",
       "1         MULTIPOLYGON (((11.70236 -16.50764, 11.70236 -...   \n",
       "2         MULTIPOLYGON (((68.86333 -50.01889, 68.86166 -...   \n",
       "3         POLYGON ((30.41152 -2.31061, 30.41243 -2.31180...   \n",
       "4         MULTIPOLYGON (((1.87042 6.28819, 1.87042 6.287...   \n",
       "5         POLYGON ((-0.45567 15.08082, -0.44206 15.06812...   \n",
       "6         POLYGON ((25.21502 -17.79051, 25.24286 -17.792...   \n",
       "7         POLYGON ((22.54251 10.99812, 22.55266 10.99373...   \n",
       "8         MULTIPOLYGON (((-6.66930 4.72958, -6.66930 4.7...   \n",
       "9         MULTIPOLYGON (((9.63403 3.56208, 9.63403 3.561...   \n",
       "10        MULTIPOLYGON (((12.45764 -6.02181, 12.45764 -6...   \n",
       "11        MULTIPOLYGON (((11.69764 -4.46764, 11.69820 -4...   \n",
       "12        MULTIPOLYGON (((43.71569 -12.40097, 43.71569 -...   \n",
       "13        MULTIPOLYGON (((-24.68264 14.90097, -24.68264 ...   \n",
       "14        MULTIPOLYGON (((-1.63069 35.21958, -1.63069 35...   \n",
       "15        MULTIPOLYGON (((36.24597 23.56542, 36.24597 23...   \n",
       "16        MULTIPOLYGON (((42.93125 12.82153, 42.93125 12...   \n",
       "17        MULTIPOLYGON (((-16.83569 22.15653, -16.83569 ...   \n",
       "18        POLYGON ((38.13777 14.68389, 38.14972 14.68278...   \n",
       "19        MULTIPOLYGON (((11.15542 -3.95486, 11.15542 -3...   \n",
       "20        MULTIPOLYGON (((-2.03542 4.75180, -2.03542 4.7...   \n",
       "21        MULTIPOLYGON (((-13.32264 9.18292, -13.32264 9...   \n",
       "22        MULTIPOLYGON (((-16.50931 13.36375, -16.50931 ...   \n",
       "23        MULTIPOLYGON (((-15.72069 10.87431, -15.72069 ...   \n",
       "24        MULTIPOLYGON (((5.63208 -1.40347, 5.63208 -1.4...   \n",
       "25        MULTIPOLYGON (((39.37625 -4.71569, 39.37625 -4...   \n",
       "26        MULTIPOLYGON (((-10.81264 6.34903, -10.81264 6...   \n",
       "27        MULTIPOLYGON (((19.87319 30.76041, 19.87319 30...   \n",
       "28        POLYGON ((28.68968 -28.58935, 28.69979 -28.600...   \n",
       "29        MULTIPOLYGON (((-10.19625 29.36264, -10.19625 ...   \n",
       "30        MULTIPOLYGON (((44.33014 -25.26875, 44.33014 -...   \n",
       "31        POLYGON ((-5.00000 24.99800, -5.00000 24.99589...   \n",
       "32        MULTIPOLYGON (((32.88820 -26.28681, 32.88820 -...   \n",
       "33        MULTIPOLYGON (((-16.48764 19.64820, -16.48764 ...   \n",
       "34        MULTIPOLYGON (((57.33681 -20.46764, 57.33681 -...   \n",
       "35        POLYGON ((33.00374 -9.36812, 33.00397 -9.36815...   \n",
       "36        MULTIPOLYGON (((45.13903 -13.00042, 45.13903 -...   \n",
       "37        MULTIPOLYGON (((16.28042 -28.50375, 16.28042 -...   \n",
       "38        POLYGON ((11.98314 23.52222, 12.00000 23.51517...   \n",
       "39        MULTIPOLYGON (((6.44042 4.30875, 6.44042 4.307...   \n",
       "40        POLYGON ((55.45097 -20.87181, 55.45097 -20.872...   \n",
       "41        POLYGON ((30.44742 -1.04523, 30.44778 -1.04534...   \n",
       "42        MULTIPOLYGON (((38.50542 18.07403, 38.50542 18...   \n",
       "43        MULTIPOLYGON (((-16.67014 12.50125, -16.67014 ...   \n",
       "44        MULTIPOLYGON (((-11.53458 6.94403, -11.53458 6...   \n",
       "45        MULTIPOLYGON (((41.61375 -1.60792, 41.61375 -1...   \n",
       "46        POLYGON ((32.72400 12.21900, 33.25525 12.20122...   \n",
       "47        MULTIPOLYGON (((6.52930 0.00403, 6.52930 0.003...   \n",
       "48        POLYGON ((31.42995 -25.72308, 31.47514 -25.751...   \n",
       "49        MULTIPOLYGON (((51.13264 -10.22162, 51.13264 -...   \n",
       "50        POLYGON ((16.81695 23.07436, 16.82721 23.06800...   \n",
       "51        MULTIPOLYGON (((1.28820 6.13486, 1.28820 6.134...   \n",
       "52        MULTIPOLYGON (((11.45264 33.17486, 11.45264 33...   \n",
       "53        MULTIPOLYGON (((40.40208 -10.42292, 40.40208 -...   \n",
       "54        POLYGON ((34.04736 4.17954, 34.05885 4.15747, ...   \n",
       "55        MULTIPOLYGON (((32.86097 -26.91042, 32.86097 -...   \n",
       "56        POLYGON ((30.78600 -8.25276, 30.78676 -8.25460...   \n",
       "57        POLYGON ((29.90175 -15.62221, 29.90864 -15.623...   \n",
       "\n",
       "                      location  \n",
       "OBJECTID                        \n",
       "1           sub-saharan-africa  \n",
       "2           sub-saharan-africa  \n",
       "3           sub-saharan-africa  \n",
       "4           sub-saharan-africa  \n",
       "5           sub-saharan-africa  \n",
       "6           sub-saharan-africa  \n",
       "7           sub-saharan-africa  \n",
       "8           sub-saharan-africa  \n",
       "9           sub-saharan-africa  \n",
       "10          sub-saharan-africa  \n",
       "11          sub-saharan-africa  \n",
       "12          sub-saharan-africa  \n",
       "13          sub-saharan-africa  \n",
       "14        mediterranean-africa  \n",
       "15        mediterranean-africa  \n",
       "16          sub-saharan-africa  \n",
       "17        mediterranean-africa  \n",
       "18          sub-saharan-africa  \n",
       "19          sub-saharan-africa  \n",
       "20          sub-saharan-africa  \n",
       "21          sub-saharan-africa  \n",
       "22          sub-saharan-africa  \n",
       "23          sub-saharan-africa  \n",
       "24          sub-saharan-africa  \n",
       "25          sub-saharan-africa  \n",
       "26          sub-saharan-africa  \n",
       "27        mediterranean-africa  \n",
       "28          sub-saharan-africa  \n",
       "29        mediterranean-africa  \n",
       "30          sub-saharan-africa  \n",
       "31          sub-saharan-africa  \n",
       "32          sub-saharan-africa  \n",
       "33          sub-saharan-africa  \n",
       "34          sub-saharan-africa  \n",
       "35          sub-saharan-africa  \n",
       "36          sub-saharan-africa  \n",
       "37          sub-saharan-africa  \n",
       "38          sub-saharan-africa  \n",
       "39          sub-saharan-africa  \n",
       "40          sub-saharan-africa  \n",
       "41          sub-saharan-africa  \n",
       "42          sub-saharan-africa  \n",
       "43          sub-saharan-africa  \n",
       "44          sub-saharan-africa  \n",
       "45          sub-saharan-africa  \n",
       "46          sub-saharan-africa  \n",
       "47          sub-saharan-africa  \n",
       "48          sub-saharan-africa  \n",
       "49          sub-saharan-africa  \n",
       "50          sub-saharan-africa  \n",
       "51          sub-saharan-africa  \n",
       "52        mediterranean-africa  \n",
       "53          sub-saharan-africa  \n",
       "54          sub-saharan-africa  \n",
       "55          sub-saharan-africa  \n",
       "56          sub-saharan-africa  \n",
       "57          sub-saharan-africa  "
      ]
     },
     "execution_count": 98,
     "metadata": {},
     "output_type": "execute_result"
    }
   ],
   "source": [
    "northern_africa = ['Algeria', 'Egypt', 'Libya', 'Morocco', 'Tunisia', 'Western Sahara']\n",
    "eastern_africa = ['Burundi', 'Comoros', 'Djibouti', 'Eritrea', 'Ethiopia', 'French Southern Territories', 'Kenya', 'Madagascar', 'Malawi', 'Mauritius', 'Mayotte', 'Mozambique', 'Reunion', 'Rwanda', 'Seychelles', 'Somalia', 'South Sudan', 'Sudan', 'Tanzania', 'Uganda', 'Zambia', 'Zimbabwe']\n",
    "southern_africa = ['Botswana', 'Lesotho','Namibia', 'South Africa', 'Swaziland']\n",
    "western_africa = ['Benin', 'Burkina Faso', 'Cape Verde', 'Côte d\\'Ivoire', 'Gambia', 'Ghana', 'Guinea', 'Guinea-Bissau', 'Liberia', 'Mali', 'Mauritania', 'Niger', 'Nigeria', 'Senegal', 'Sierra Leone', 'Togo']\n",
    "central_africa = ['Angola', 'Cameroon', 'Central African Republic', 'Chad', 'Democratic Republic of the Congo', 'Equatorial Guinea', 'Gabon', 'Republic of Congo', 'Sao Tome and Principe']\n",
    "\n",
    "regions = ['northern_africa', 'eastern_africa', 'southern_africa', 'western_africa', 'central_africa']\n",
    "\n",
    "conditions = [africa_df['country'].isin(eval(region)) for region in regions]\n",
    "africa_df['region'] = np.select(conditions, regions, default=None)\n",
    "africa_df['location'] = np.where(africa_df['region'] == 'northern_africa', 'mediterranean-africa', 'sub-saharan-africa')\n",
    "\n",
    "africa_df"
   ]
  },
  {
   "cell_type": "markdown",
   "metadata": {
    "id": "l4Xs_xi4w0hk"
   },
   "source": [
    "***Year shapefiles were created:***\n"
   ]
  },
  {
   "cell_type": "markdown",
   "metadata": {
    "id": "3jlVOjKew0hm"
   },
   "source": [
    "The webpage states that the shapefiles were first published in 19-11-2014 and last updated on 27-01-2021. However, the [ArcGIS Hub summary](https://hub.arcgis.com/datasets/07610d73964e4d39ab62c4245d548625_0/about) only specifies a light update in 2016. However, for this assignment this shapefile should be sufficiently recently updated, as both dates are past the last major border change on the African continent (i.e. independence of South Sudan from Sudan on 09-07-2011). This was the most recently updated shapefile I could find."
   ]
  },
  {
   "cell_type": "markdown",
   "metadata": {
    "id": "JpKaCqCYBeBE"
   },
   "source": [
    "***Motivation for selecting the shapefile:***"
   ]
  },
  {
   "cell_type": "markdown",
   "metadata": {
    "id": "AiGZAGmxw0ho"
   },
   "source": [
    "For every SDG, you can find \"Goal x targets\" on the UN website. Use these targets to formulate at least one question per SDG (i.e., at least two questions that you want to answer). The question can be about the current state of a SDG in Africa, comparing countries/regions within Africa or a longitudinal comparison of a region. \n",
    "\n",
    "Make your research question concrete. Something like \"What is the state of SDG 7 in Africa?\" is too broad. Something like: \"Using variable x a proxy for the development of SDG 7, how do the West-African Countries fare compared to the rest of Africa?\" is much more concrete, and narrows your question down to an achievable outcome. It also gives you something to discuss in your report.   \n",
    "\n",
    "Discuss your research question on MS Teams if you are not sure. Help each other, also by asking for help if you are not used to formulate research questions yourself! \n",
    "\n",
    "\n",
    "We will answer questions and doubts about research questions on Teams until **October 31st**. That means: if you would like to have us check your question before you continue working on this assignment, make sure you post it until October 31st, we will answer as quickly as possible. After October 31th , we will not check individual research questions, but you will still be able to see what we answered and you can refer to the forum as a guideline. \n"
   ]
  },
  {
   "cell_type": "markdown",
   "metadata": {
    "id": "VpkfNQ_PKx6c"
   },
   "source": [
    "Why this particular shapefile was used:\n",
    "- Most updated version available.\n",
    "- Seemingly accurate (detailed) representation of borders.\n",
    "- Per country basis. \n",
    "    - I want to look at diferences between countries in education quality. This shapefile takes does not split countries in multiple objects, which makes it easier to work with for this problem."
   ]
  },
  {
   "cell_type": "markdown",
   "metadata": {
    "id": "xPzBYRnGw0hn"
   },
   "source": [
    "## Task 2: Research Questions & Data Sources"
   ]
  },
  {
   "cell_type": "markdown",
   "metadata": {
    "id": "b-TgLFDDw0hq"
   },
   "source": [
    "***1st research question:***\n",
    "\n"
   ]
  },
  {
   "cell_type": "markdown",
   "metadata": {
    "id": "HxScXNp3LB0E"
   },
   "source": [
    "Regarding **SDG 4: Quality Education**\n",
    "- Research question: *Using COVID-19 school closure index as a proxy variable for SDG4, how does Sub-Saharan Africa compare to Mediterranean Africa in loss of education days between 2019 and 2021?*"
   ]
  },
  {
   "cell_type": "markdown",
   "metadata": {
    "id": "d8XGxricLB51"
   },
   "source": [
    "***2nd research question:***"
   ]
  },
  {
   "cell_type": "markdown",
   "metadata": {
    "id": "NuPKFN2vLB3a"
   },
   "source": [
    "Regarding **SDG 10: Reduced Inequalities**\n",
    "- Research question: *Using the Gini index as a proxy variable for SDG10, how did Sub-Saharan Africa compare to Mediterranean Africa in 2019?*\n",
    "\n",
    "**Note:** Gini indices measure inequality on a scale from zero, indicating perfect equality, to 100, indicating one person having all resources. Countries’ income Ginis typically lie within a range of 25 to 60.\n",
    "\n",
    "**Note:** For all research quesions we distinguish between Sub-Saharan Africa (i.e. Western, Southern, Central, and Eastern Africa) and Mediterranean Africa (Northern Africa)."
   ]
  },
  {
   "cell_type": "markdown",
   "metadata": {
    "id": "zhkwAksvw0hs"
   },
   "source": [
    "On the worldbank website, you can easily find matching data: https://datacatalog.worldbank.org/dataset/sustainable-development-goals. You are free to use other data sources. Make sure to share them with us though. \n",
    "\n",
    "**Important:**\n",
    "\n",
    "! We want to re-run your analyses, so please include a link to the data that you are using in your submission!\n",
    "\n",
    "\n"
   ]
  },
  {
   "cell_type": "markdown",
   "metadata": {
    "id": "PhMSOZJRw0hu"
   },
   "source": [
    "***Links to data:***"
   ]
  },
  {
   "cell_type": "markdown",
   "metadata": {
    "id": "qGMe8h_Lw0hx"
   },
   "source": [
    "Information on SDG4: https://datatopics.worldbank.org/sdgatlas/goal-4-quality-education?lang=en \\\n",
    "World Bank Data SDG4: https://datatopics.worldbank.org/sdgatlas/data/goal04/goal04.lpovclosuresinternet.csv\n",
    "\n",
    "Information on SDG10: https://datatopics.worldbank.org/sdgatlas/goal-10-reduced-inequalities/?lang=en \\\n",
    "World Bank Data SDG10: https://datatopics.worldbank.org/sdgatlas/data/goal10/goal10.global_gini.csv"
   ]
  },
  {
   "cell_type": "markdown",
   "metadata": {},
   "source": [
    "### Load SDG statistics and combine with shape data.\n",
    "\n",
    "Open SDG4 Data and save to a `dataframe`."
   ]
  },
  {
   "cell_type": "code",
   "execution_count": 99,
   "metadata": {},
   "outputs": [
    {
     "data": {
      "text/html": [
       "<div>\n",
       "<style scoped>\n",
       "    .dataframe tbody tr th:only-of-type {\n",
       "        vertical-align: middle;\n",
       "    }\n",
       "\n",
       "    .dataframe tbody tr th {\n",
       "        vertical-align: top;\n",
       "    }\n",
       "\n",
       "    .dataframe thead th {\n",
       "        text-align: right;\n",
       "    }\n",
       "</style>\n",
       "<table border=\"1\" class=\"dataframe\">\n",
       "  <thead>\n",
       "    <tr style=\"text-align: right;\">\n",
       "      <th></th>\n",
       "      <th>iso</th>\n",
       "      <th>gni_per_capita</th>\n",
       "      <th>learning_poverty</th>\n",
       "      <th>unicef_total_closed</th>\n",
       "      <th>internet_users</th>\n",
       "      <th>EG.ELC.ACCS.ZS</th>\n",
       "      <th>population</th>\n",
       "    </tr>\n",
       "  </thead>\n",
       "  <tbody>\n",
       "    <tr>\n",
       "      <th>0</th>\n",
       "      <td>AFG</td>\n",
       "      <td>500</td>\n",
       "      <td>93.447998</td>\n",
       "      <td>240</td>\n",
       "      <td>18.400000</td>\n",
       "      <td>97.699997</td>\n",
       "      <td>38972230</td>\n",
       "    </tr>\n",
       "    <tr>\n",
       "      <th>1</th>\n",
       "      <td>ALB</td>\n",
       "      <td>5260</td>\n",
       "      <td>16.478642</td>\n",
       "      <td>99</td>\n",
       "      <td>72.237677</td>\n",
       "      <td>100.000000</td>\n",
       "      <td>2837849</td>\n",
       "    </tr>\n",
       "    <tr>\n",
       "      <th>2</th>\n",
       "      <td>ARE</td>\n",
       "      <td>41770</td>\n",
       "      <td>32.832924</td>\n",
       "      <td>208</td>\n",
       "      <td>100.000000</td>\n",
       "      <td>100.000000</td>\n",
       "      <td>9287289</td>\n",
       "    </tr>\n",
       "    <tr>\n",
       "      <th>3</th>\n",
       "      <td>ARG</td>\n",
       "      <td>9010</td>\n",
       "      <td>59.147190</td>\n",
       "      <td>260</td>\n",
       "      <td>85.500000</td>\n",
       "      <td>100.000000</td>\n",
       "      <td>45376763</td>\n",
       "    </tr>\n",
       "    <tr>\n",
       "      <th>4</th>\n",
       "      <td>ARM</td>\n",
       "      <td>4470</td>\n",
       "      <td>27.241146</td>\n",
       "      <td>53</td>\n",
       "      <td>76.507701</td>\n",
       "      <td>100.000000</td>\n",
       "      <td>2805608</td>\n",
       "    </tr>\n",
       "    <tr>\n",
       "      <th>...</th>\n",
       "      <td>...</td>\n",
       "      <td>...</td>\n",
       "      <td>...</td>\n",
       "      <td>...</td>\n",
       "      <td>...</td>\n",
       "      <td>...</td>\n",
       "      <td>...</td>\n",
       "    </tr>\n",
       "    <tr>\n",
       "      <th>113</th>\n",
       "      <td>URY</td>\n",
       "      <td>15950</td>\n",
       "      <td>43.618366</td>\n",
       "      <td>126</td>\n",
       "      <td>86.100000</td>\n",
       "      <td>100.000000</td>\n",
       "      <td>3429086</td>\n",
       "    </tr>\n",
       "    <tr>\n",
       "      <th>114</th>\n",
       "      <td>USA</td>\n",
       "      <td>64650</td>\n",
       "      <td>4.251830</td>\n",
       "      <td>193</td>\n",
       "      <td>90.900000</td>\n",
       "      <td>100.000000</td>\n",
       "      <td>331501080</td>\n",
       "    </tr>\n",
       "    <tr>\n",
       "      <th>115</th>\n",
       "      <td>VNM</td>\n",
       "      <td>3450</td>\n",
       "      <td>18.120916</td>\n",
       "      <td>132</td>\n",
       "      <td>70.300000</td>\n",
       "      <td>100.000000</td>\n",
       "      <td>96648685</td>\n",
       "    </tr>\n",
       "    <tr>\n",
       "      <th>116</th>\n",
       "      <td>ZAF</td>\n",
       "      <td>6090</td>\n",
       "      <td>78.909492</td>\n",
       "      <td>196</td>\n",
       "      <td>70.000000</td>\n",
       "      <td>84.385536</td>\n",
       "      <td>58801927</td>\n",
       "    </tr>\n",
       "    <tr>\n",
       "      <th>117</th>\n",
       "      <td>ZMB</td>\n",
       "      <td>1130</td>\n",
       "      <td>98.504211</td>\n",
       "      <td>106</td>\n",
       "      <td>19.800000</td>\n",
       "      <td>44.524475</td>\n",
       "      <td>18927715</td>\n",
       "    </tr>\n",
       "  </tbody>\n",
       "</table>\n",
       "<p>118 rows × 7 columns</p>\n",
       "</div>"
      ],
      "text/plain": [
       "     iso  gni_per_capita  learning_poverty  unicef_total_closed  \\\n",
       "0    AFG             500         93.447998                  240   \n",
       "1    ALB            5260         16.478642                   99   \n",
       "2    ARE           41770         32.832924                  208   \n",
       "3    ARG            9010         59.147190                  260   \n",
       "4    ARM            4470         27.241146                   53   \n",
       "..   ...             ...               ...                  ...   \n",
       "113  URY           15950         43.618366                  126   \n",
       "114  USA           64650          4.251830                  193   \n",
       "115  VNM            3450         18.120916                  132   \n",
       "116  ZAF            6090         78.909492                  196   \n",
       "117  ZMB            1130         98.504211                  106   \n",
       "\n",
       "     internet_users  EG.ELC.ACCS.ZS  population  \n",
       "0         18.400000       97.699997    38972230  \n",
       "1         72.237677      100.000000     2837849  \n",
       "2        100.000000      100.000000     9287289  \n",
       "3         85.500000      100.000000    45376763  \n",
       "4         76.507701      100.000000     2805608  \n",
       "..              ...             ...         ...  \n",
       "113       86.100000      100.000000     3429086  \n",
       "114       90.900000      100.000000   331501080  \n",
       "115       70.300000      100.000000    96648685  \n",
       "116       70.000000       84.385536    58801927  \n",
       "117       19.800000       44.524475    18927715  \n",
       "\n",
       "[118 rows x 7 columns]"
      ]
     },
     "execution_count": 99,
     "metadata": {},
     "output_type": "execute_result"
    }
   ],
   "source": [
    "covid_closure = pd.read_csv('data/numbers/goal04.lpovclosuresinternet.csv')\n",
    "covid_closure = covid_closure.rename(columns={'iso3c':'iso'})\n",
    "covid_closure"
   ]
  },
  {
   "cell_type": "markdown",
   "metadata": {},
   "source": [
    "Open SDG10 Data and save to a `dataframe`."
   ]
  },
  {
   "cell_type": "code",
   "execution_count": 100,
   "metadata": {},
   "outputs": [
    {
     "data": {
      "text/html": [
       "<div>\n",
       "<style scoped>\n",
       "    .dataframe tbody tr th:only-of-type {\n",
       "        vertical-align: middle;\n",
       "    }\n",
       "\n",
       "    .dataframe tbody tr th {\n",
       "        vertical-align: top;\n",
       "    }\n",
       "\n",
       "    .dataframe thead th {\n",
       "        text-align: right;\n",
       "    }\n",
       "</style>\n",
       "<table border=\"1\" class=\"dataframe\">\n",
       "  <thead>\n",
       "    <tr style=\"text-align: right;\">\n",
       "      <th></th>\n",
       "      <th>iso</th>\n",
       "      <th>country_name</th>\n",
       "      <th>gini</th>\n",
       "    </tr>\n",
       "  </thead>\n",
       "  <tbody>\n",
       "    <tr>\n",
       "      <th>0</th>\n",
       "      <td>SVK</td>\n",
       "      <td>Slovak Republic</td>\n",
       "      <td>23.2323</td>\n",
       "    </tr>\n",
       "    <tr>\n",
       "      <th>1</th>\n",
       "      <td>SVN</td>\n",
       "      <td>Slovenia</td>\n",
       "      <td>24.0315</td>\n",
       "    </tr>\n",
       "    <tr>\n",
       "      <th>2</th>\n",
       "      <td>BLR</td>\n",
       "      <td>Belarus</td>\n",
       "      <td>24.3834</td>\n",
       "    </tr>\n",
       "    <tr>\n",
       "      <th>3</th>\n",
       "      <td>UKR</td>\n",
       "      <td>Ukraine</td>\n",
       "      <td>25.6274</td>\n",
       "    </tr>\n",
       "    <tr>\n",
       "      <th>4</th>\n",
       "      <td>MDA</td>\n",
       "      <td>Moldova</td>\n",
       "      <td>25.7316</td>\n",
       "    </tr>\n",
       "    <tr>\n",
       "      <th>...</th>\n",
       "      <td>...</td>\n",
       "      <td>...</td>\n",
       "      <td>...</td>\n",
       "    </tr>\n",
       "    <tr>\n",
       "      <th>167</th>\n",
       "      <td>SUR</td>\n",
       "      <td>Suriname</td>\n",
       "      <td>57.8514</td>\n",
       "    </tr>\n",
       "    <tr>\n",
       "      <th>168</th>\n",
       "      <td>NAM</td>\n",
       "      <td>Namibia</td>\n",
       "      <td>59.0666</td>\n",
       "    </tr>\n",
       "    <tr>\n",
       "      <th>169</th>\n",
       "      <td>HTI</td>\n",
       "      <td>Haiti</td>\n",
       "      <td>60.7868</td>\n",
       "    </tr>\n",
       "    <tr>\n",
       "      <th>170</th>\n",
       "      <td>WLD</td>\n",
       "      <td>World</td>\n",
       "      <td>62.0245</td>\n",
       "    </tr>\n",
       "    <tr>\n",
       "      <th>171</th>\n",
       "      <td>ZAF</td>\n",
       "      <td>South Africa</td>\n",
       "      <td>63.0261</td>\n",
       "    </tr>\n",
       "  </tbody>\n",
       "</table>\n",
       "<p>172 rows × 3 columns</p>\n",
       "</div>"
      ],
      "text/plain": [
       "     iso     country_name     gini\n",
       "0    SVK  Slovak Republic  23.2323\n",
       "1    SVN         Slovenia  24.0315\n",
       "2    BLR          Belarus  24.3834\n",
       "3    UKR          Ukraine  25.6274\n",
       "4    MDA          Moldova  25.7316\n",
       "..   ...              ...      ...\n",
       "167  SUR         Suriname  57.8514\n",
       "168  NAM          Namibia  59.0666\n",
       "169  HTI            Haiti  60.7868\n",
       "170  WLD            World  62.0245\n",
       "171  ZAF     South Africa  63.0261\n",
       "\n",
       "[172 rows x 3 columns]"
      ]
     },
     "execution_count": 100,
     "metadata": {},
     "output_type": "execute_result"
    }
   ],
   "source": [
    "gini = pd.read_csv('data/numbers/goal10.global_gini.csv')\n",
    "gini = gini.rename(columns={'country_code':'iso'})\n",
    "gini"
   ]
  },
  {
   "cell_type": "markdown",
   "metadata": {},
   "source": [
    "Merge these dataframes with the shape data based on the iso country code. Some data will be missing and automatically annotated as `NaN`. We "
   ]
  },
  {
   "cell_type": "code",
   "execution_count": 101,
   "metadata": {},
   "outputs": [],
   "source": [
    "africa_inequality = pd.merge(africa_df, gini, on='iso', how='left')\n",
    "africa_education_quality = pd.merge(africa_df, covid_closure, on='iso', how='left')\n",
    "\n",
    "# Remove countries for which there is no relevant data\n",
    "africa_education_clean = africa_education_quality.dropna().reset_index(drop=True)\n",
    "africa_inequality_clean = africa_inequality.dropna().reset_index(drop=True)"
   ]
  },
  {
   "cell_type": "markdown",
   "metadata": {
    "id": "IhupTGNNw0h0"
   },
   "source": [
    "## Task 3: Spatial Lag & Moran's Plot"
   ]
  },
  {
   "cell_type": "markdown",
   "metadata": {
    "id": "nOiQJQ3kw0h1"
   },
   "source": [
    "In Lab 4 (http://darribas.org/gds16/labs/Lab_04.html) by Dani Arribas, you can see examples of weight matrices and at the end an explanation of spatial lag and the Morans plot (Watch out, this is not Moran's I/ Moran's spatial autocorrelation, which is also often calculated in spatial analytics), We have provided a modified version of this lab ready to go in this repo. \n",
    "Read and understand the concept of spatial lag first. In a Moran's plot, you can show how the value of a variable relates to it's spatial lag (or the average of this value in the surrounding areas). \n",
    "\n",
    "Additional information: \n",
    "* [Dani Arribas written course material](http://darribas.org/gds_scipy16/)\n",
    "* [installing PySAL](https://pysal.org/docs/install/) and [PySAL tutorial](https://pysal.org/libpysal/tutorial.html)\n",
    "\n",
    "Your tasks:\n",
    "\n",
    "Create two Morans plots based on the variables related to your research questions and interpret them: \n",
    "\n",
    "What can you say about the entire continent?\n",
    "\n",
    "Can you find meaningful subregions? \n",
    "\n",
    "What if you use block weights around those subregions and re-run the analysis? "
   ]
  },
  {
   "cell_type": "markdown",
   "metadata": {},
   "source": [
    "### Spatial Lag"
   ]
  },
  {
   "cell_type": "code",
   "execution_count": 102,
   "metadata": {
    "id": "V3Dltrlrw0h2"
   },
   "outputs": [
    {
     "name": "stderr",
     "output_type": "stream",
     "text": [
      "/home/vscode/.local/lib/python3.9/site-packages/libpysal/weights/weights.py:224: UserWarning: The weights matrix is not fully connected: \n",
      " There are 8 disconnected components.\n",
      " There are 7 islands with ids: COM, EGY, ETH, LSO, MDG, MUS, ZAF.\n",
      "  warnings.warn(message)\n"
     ]
    },
    {
     "name": "stdout",
     "output_type": "stream",
     "text": [
      "('WARNING: ', 'COM', ' is an island (no neighbors)')\n",
      "('WARNING: ', 'EGY', ' is an island (no neighbors)')\n",
      "('WARNING: ', 'ETH', ' is an island (no neighbors)')\n",
      "('WARNING: ', 'LSO', ' is an island (no neighbors)')\n",
      "('WARNING: ', 'MDG', ' is an island (no neighbors)')\n",
      "('WARNING: ', 'MUS', ' is an island (no neighbors)')\n",
      "('WARNING: ', 'ZAF', ' is an island (no neighbors)')\n",
      "('WARNING: ', 'COM', ' is an island (no neighbors)')\n",
      "('WARNING: ', 'CPV', ' is an island (no neighbors)')\n",
      "('WARNING: ', 'LSO', ' is an island (no neighbors)')\n",
      "('WARNING: ', 'MDG', ' is an island (no neighbors)')\n",
      "('WARNING: ', 'MUS', ' is an island (no neighbors)')\n",
      "('WARNING: ', 'STP', ' is an island (no neighbors)')\n",
      "('WARNING: ', 'SYC', ' is an island (no neighbors)')\n",
      "('WARNING: ', 'ZAF', ' is an island (no neighbors)')\n"
     ]
    },
    {
     "name": "stderr",
     "output_type": "stream",
     "text": [
      "/home/vscode/.local/lib/python3.9/site-packages/libpysal/weights/weights.py:224: UserWarning: The weights matrix is not fully connected: \n",
      " There are 9 disconnected components.\n",
      " There are 8 islands with ids: COM, CPV, LSO, MDG, MUS, STP, SYC, ZAF.\n",
      "  warnings.warn(message)\n"
     ]
    }
   ],
   "source": [
    "# Calculate contiguity: Queen adjacency matrices:\n",
    "education_queen = ps.weights.Queen.from_dataframe(africa_education_clean, ids='iso')\n",
    "inequality_queen = ps.weights.Queen.from_dataframe(africa_inequality_clean, ids='iso')\n",
    "\n",
    "# Standardize by rows \n",
    "education_queen.transform = 'R'\n",
    "inequality_queen.transform = 'R'"
   ]
  },
  {
   "cell_type": "code",
   "execution_count": 103,
   "metadata": {},
   "outputs": [
    {
     "data": {
      "text/plain": [
       "{'BDI': ['COD'],\n",
       " 'BEN': ['TGO', 'BFA', 'NER'],\n",
       " 'BFA': ['CIV', 'NER', 'BEN', 'TGO', 'MLI'],\n",
       " 'BWA': ['ZMB'],\n",
       " 'CIV': ['GIN', 'BFA', 'MLI'],\n",
       " 'CMR': ['TCD', 'GAB', 'COG'],\n",
       " 'COD': ['ZMB', 'UGA', 'BDI', 'COG'],\n",
       " 'COG': ['COD', 'GAB', 'CMR'],\n",
       " 'COM': [],\n",
       " 'DZA': ['NER', 'MRT', 'TUN', 'MLI', 'MAR'],\n",
       " 'EGY': [],\n",
       " 'ETH': [],\n",
       " 'GAB': ['CMR', 'COG'],\n",
       " 'GIN': ['CIV', 'SEN', 'MLI'],\n",
       " 'LSO': [],\n",
       " 'MAR': ['DZA'],\n",
       " 'MDG': [],\n",
       " 'MLI': ['DZA', 'NER', 'MRT', 'CIV', 'BFA', 'GIN', 'SEN'],\n",
       " 'MRT': ['SEN', 'DZA', 'MLI'],\n",
       " 'MUS': [],\n",
       " 'NER': ['DZA', 'BEN', 'TCD', 'BFA', 'MLI'],\n",
       " 'SEN': ['GIN', 'MLI', 'MRT'],\n",
       " 'TCD': ['CMR', 'NER'],\n",
       " 'TGO': ['BFA', 'BEN'],\n",
       " 'TUN': ['DZA'],\n",
       " 'UGA': ['COD'],\n",
       " 'ZAF': [],\n",
       " 'ZMB': ['BWA', 'COD']}"
      ]
     },
     "execution_count": 103,
     "metadata": {},
     "output_type": "execute_result"
    }
   ],
   "source": [
    "education_queen.neighbors"
   ]
  },
  {
   "cell_type": "code",
   "execution_count": 104,
   "metadata": {},
   "outputs": [
    {
     "data": {
      "text/plain": [
       "{'AGO': ['COD', 'ZMB', 'NAM', 'COG'],\n",
       " 'BDI': ['TZA', 'RWA', 'COD'],\n",
       " 'BEN': ['TGO', 'NER', 'BFA', 'NGA'],\n",
       " 'BFA': ['GHA', 'NER', 'BEN', 'CIV', 'MLI', 'TGO'],\n",
       " 'BWA': ['ZMB', 'ZWE', 'NAM'],\n",
       " 'CAF': ['COD', 'SDN', 'SSD', 'TCD', 'CMR', 'COG'],\n",
       " 'CIV': ['GHA', 'GIN', 'LBR', 'BFA', 'MLI'],\n",
       " 'CMR': ['GAB', 'NGA', 'TCD', 'CAF', 'COG'],\n",
       " 'COD': ['ZMB', 'BDI', 'AGO', 'COG', 'TZA', 'RWA', 'UGA', 'SSD', 'CAF'],\n",
       " 'COG': ['COD', 'GAB', 'AGO', 'CMR', 'CAF'],\n",
       " 'COM': [],\n",
       " 'CPV': [],\n",
       " 'DZA': ['NER', 'MRT', 'TUN', 'MAR', 'MLI'],\n",
       " 'EGY': ['SDN'],\n",
       " 'ETH': ['SSD', 'KEN', 'SDN'],\n",
       " 'GAB': ['CMR', 'COG'],\n",
       " 'GHA': ['CIV', 'BFA', 'TGO'],\n",
       " 'GIN': ['SEN', 'GNB', 'LBR', 'SLE', 'CIV', 'MLI'],\n",
       " 'GMB': ['SEN'],\n",
       " 'GNB': ['SEN', 'GIN'],\n",
       " 'KEN': ['TZA', 'SSD', 'ETH', 'UGA'],\n",
       " 'LBR': ['CIV', 'GIN', 'SLE'],\n",
       " 'LSO': [],\n",
       " 'MAR': ['DZA'],\n",
       " 'MDG': [],\n",
       " 'MLI': ['DZA', 'NER', 'MRT', 'CIV', 'BFA', 'GIN', 'SEN'],\n",
       " 'MOZ': ['MWI', 'TZA', 'ZWE', 'SWZ', 'ZMB'],\n",
       " 'MRT': ['SEN', 'DZA', 'MLI'],\n",
       " 'MUS': [],\n",
       " 'MWI': ['TZA', 'MOZ', 'ZMB'],\n",
       " 'NAM': ['AGO', 'ZMB', 'BWA'],\n",
       " 'NER': ['DZA', 'NGA', 'BEN', 'TCD', 'BFA', 'MLI'],\n",
       " 'NGA': ['TCD', 'CMR', 'NER', 'BEN'],\n",
       " 'RWA': ['TZA', 'COD', 'BDI', 'UGA'],\n",
       " 'SDN': ['ETH', 'EGY', 'SSD', 'TCD', 'CAF'],\n",
       " 'SEN': ['MRT', 'GNB', 'GMB', 'GIN', 'MLI'],\n",
       " 'SLE': ['LBR', 'GIN'],\n",
       " 'SSD': ['COD', 'ETH', 'SDN', 'UGA', 'KEN', 'CAF'],\n",
       " 'STP': [],\n",
       " 'SWZ': ['MOZ'],\n",
       " 'SYC': [],\n",
       " 'TCD': ['NER', 'NGA', 'SDN', 'CMR', 'CAF'],\n",
       " 'TGO': ['GHA', 'BFA', 'BEN'],\n",
       " 'TUN': ['DZA'],\n",
       " 'TZA': ['MWI', 'BDI', 'MOZ', 'RWA', 'COD', 'UGA', 'ZMB', 'KEN'],\n",
       " 'UGA': ['TZA', 'RWA', 'COD', 'SSD', 'KEN'],\n",
       " 'ZAF': [],\n",
       " 'ZMB': ['MWI', 'AGO', 'MOZ', 'TZA', 'COD', 'BWA', 'ZWE', 'NAM'],\n",
       " 'ZWE': ['BWA', 'MOZ', 'ZMB']}"
      ]
     },
     "execution_count": 104,
     "metadata": {},
     "output_type": "execute_result"
    }
   ],
   "source": [
    "inequality_queen.neighbors"
   ]
  },
  {
   "cell_type": "markdown",
   "metadata": {},
   "source": [
    "There is an error with the shapefile, as it suggest that South Africa has no neighbors. As a result, neighbouring countries Namibia, Botswana, Zimbabwe, Mozambique, and Swaziland do not have South Africa as a neighbour. Indeed, Lesotho does not even have any neighbours and is thus considered an island, as it lies within South Africa.\n",
    "\n",
    "Get numeric values in order to calculate the spatial lag."
   ]
  },
  {
   "cell_type": "code",
   "execution_count": 105,
   "metadata": {},
   "outputs": [],
   "source": [
    "africa_education_clean['unicef_total_closed'] = pd.to_numeric(africa_education_clean['unicef_total_closed'])\n",
    "africa_inequality_clean['gini'] = pd.to_numeric(africa_inequality_clean['gini'])\n",
    "\n",
    "splag_queen_education = ps.weights.lag_spatial(education_queen, africa_education_clean['unicef_total_closed'])\n",
    "splag_queen_inequality = ps.weights.lag_spatial(inequality_queen, africa_inequality_clean['gini'])"
   ]
  },
  {
   "cell_type": "markdown",
   "metadata": {},
   "source": [
    "### Calculate Block-Weights"
   ]
  },
  {
   "cell_type": "code",
   "execution_count": 106,
   "metadata": {},
   "outputs": [
    {
     "name": "stderr",
     "output_type": "stream",
     "text": [
      "/home/vscode/.local/lib/python3.9/site-packages/libpysal/weights/weights.py:224: UserWarning: The weights matrix is not fully connected: \n",
      " There are 2 disconnected components.\n",
      "  warnings.warn(message)\n"
     ]
    }
   ],
   "source": [
    "block_education = ps.weights.block_weights(africa_education_clean['location'])\n",
    "block_inequality = ps.weights.block_weights(africa_inequality_clean['location'])\n",
    "\n",
    "block_lag_education= ps.weights.lag_spatial(block_education, africa_education_clean['unicef_total_closed'])\n",
    "block_lag_inequality = ps.weights.lag_spatial(block_inequality, africa_inequality_clean['gini'])"
   ]
  },
  {
   "cell_type": "markdown",
   "metadata": {},
   "source": [
    "### Visualize Block-Weights"
   ]
  },
  {
   "cell_type": "markdown",
   "metadata": {},
   "source": [
    "In order to properly compare the block weights we are visualising the data using Moran Plots. I decided to standardize the data first in order to be able to compare the regions to each other and show their relative change in education quality and inequality. [Here](https://geodacenter.github.io/workbook/5a_global_auto/lab5a.html#the-moran-scatter-plot) is an article that explains this standardization can be done and how these Moran plots can be interpreted:\n",
    "\n",
    "*The scatter plot is then easily decomposed into four quadrants. The upper-right quadrant and the lower-left quadrant correspond with positive spatial autocorrelation (similar values at neighboring locations). We refer to them as respectively high-high and low-low spatial autocorrelation. In contrast, the lower-right and upper-left quadrant correspond to negative spatial autocorrelation (dissimilar values at neighboring locations). We refer to them as respectively high-low and low-high spatial autocorrelation.*"
   ]
  },
  {
   "cell_type": "markdown",
   "metadata": {},
   "source": [
    "### SDG4: Quality of Education"
   ]
  },
  {
   "cell_type": "code",
   "execution_count": 134,
   "metadata": {},
   "outputs": [
    {
     "data": {
      "image/png": "[encoded data removed]",
      "text/plain": [
       "<Figure size 400x600 with 1 Axes>"
      ]
     },
     "metadata": {},
     "output_type": "display_data"
    }
   ],
   "source": [
    "standardized_education = (africa_education_clean['unicef_total_closed'] - africa_education_clean['unicef_total_closed'].mean()) / africa_education_clean['unicef_total_closed'].std()\n",
    "standardized_weights_education = pd.Series(ps.weights.lag_spatial(education_queen, standardized_education), index=standardized_education.index)\n",
    "\n",
    "plot_data_education = pd.DataFrame({\n",
    "    'standardized_scores': standardized_education,\n",
    "    'spatial_lag': standardized_weights_education,\n",
    "    'region': africa_education_clean['location']\n",
    "})\n",
    "\n",
    "f, ax = plt.subplots(1, figsize=(4,6))\n",
    "\n",
    "\n",
    "sns.scatterplot(data=plot_data_education, x='standardized_scores', y='spatial_lag', hue='region', s=120)\n",
    "\n",
    "plt.xlabel('Relative amound of closed educational days since 2019')\n",
    "plt.ylabel('Spatial Lag of closed educational days')\n",
    "plt.title(\"Moran's Plot: Quality of Education\")\n",
    "\n",
    "plt.axvline(0, c='black', alpha=0.5)\n",
    "plt.axhline(0, c='black', alpha=0.5)\n",
    "\n",
    "ax.legend(bbox_to_anchor=(1.05, 1), loc='upper left')\n",
    "\n",
    "plt.show()"
   ]
  },
  {
   "cell_type": "markdown",
   "metadata": {},
   "source": [
    "***Figure 1: Interpretation:***"
   ]
  },
  {
   "cell_type": "markdown",
   "metadata": {},
   "source": [
    "There seems to be little increase of closed educational days since 2019 in Mediterranean Africa. One could argue this region is mostly correlated in its relative stability of education quality. In Sub-Saharan Africa however, there seems to be more significant difference between countries. 15 countries in the lower-left of the positively correlate with regards to their relatively low amount of closing days, whereas other countries seem to have a high amount of closing educational days since the pandemic. This could be interpreted as relative stability in the Mediterranean region, compared to Sub-Saharan Africa. "
   ]
  },
  {
   "cell_type": "markdown",
   "metadata": {},
   "source": [
    "### SDG10: Inequality"
   ]
  },
  {
   "cell_type": "code",
   "execution_count": 135,
   "metadata": {},
   "outputs": [
    {
     "data": {
      "image/png": "[encoded data removed]",
      "text/plain": [
       "<Figure size 400x600 with 1 Axes>"
      ]
     },
     "metadata": {},
     "output_type": "display_data"
    }
   ],
   "source": [
    "standardized_inequality = (africa_inequality_clean['gini'] - africa_inequality_clean['gini'].mean()) / africa_inequality_clean['gini'].std()\n",
    "standardized_weights_inequality = pd.Series(ps.weights.lag_spatial(inequality_queen, standardized_inequality), index=standardized_inequality.index)\n",
    "\n",
    "plot_data_inequality = pd.DataFrame({\n",
    "    'standardized_scores': standardized_inequality,\n",
    "    'spatial_lag': standardized_weights_inequality,\n",
    "    'region': africa_inequality_clean['location']\n",
    "})\n",
    "\n",
    "f, ax = plt.subplots(1, figsize=(4,6))\n",
    "\n",
    "\n",
    "sns.scatterplot(data=plot_data_inequality, x='standardized_scores', y='spatial_lag', hue='region', s=120)\n",
    "\n",
    "plt.xlabel('Relative Gini Score')\n",
    "plt.ylabel('Spatial Lag of Gini Index')\n",
    "plt.title(\"Moran's Plot: Relative Inequality\")\n",
    "\n",
    "plt.axvline(0, c='black', alpha=0.5)\n",
    "plt.axhline(0, c='black', alpha=0.5)\n",
    "\n",
    "ax.legend(bbox_to_anchor=(1.05, 1), loc='upper left')\n",
    "\n",
    "plt.show()"
   ]
  },
  {
   "cell_type": "markdown",
   "metadata": {},
   "source": [
    "***Figure 2: Interpretation:***"
   ]
  },
  {
   "cell_type": "markdown",
   "metadata": {},
   "source": [
    "It is very clear that relative inequality Mediterranean Africa based on the Gini score is low, compared to other parts of Africa. It would be interesting to see whether this trend is visible when looking at the regions in greater detail."
   ]
  },
  {
   "cell_type": "code",
   "execution_count": 136,
   "metadata": {},
   "outputs": [
    {
     "data": {
      "image/png": "[encoded data removed]",
      "text/plain": [
       "<Figure size 400x600 with 1 Axes>"
      ]
     },
     "metadata": {},
     "output_type": "display_data"
    }
   ],
   "source": [
    "standardized_inequality = (africa_inequality_clean['gini'] - africa_inequality_clean['gini'].mean()) / africa_inequality_clean['gini'].std()\n",
    "standardized_weights_inequality = pd.Series(ps.weights.lag_spatial(inequality_queen, standardized_inequality), index=standardized_inequality.index)\n",
    "\n",
    "plot_data_inequality = pd.DataFrame({\n",
    "    'standardized_scores': standardized_inequality,\n",
    "    'spatial_lag': standardized_weights_inequality,\n",
    "    'region': africa_inequality_clean['region']\n",
    "})\n",
    "\n",
    "f, ax = plt.subplots(1, figsize=(4,6))\n",
    "\n",
    "sns.scatterplot(data=plot_data_inequality, x='standardized_scores', y='spatial_lag', hue='region', s=120)\n",
    "\n",
    "plt.xlabel('Relative Gini Score')\n",
    "plt.ylabel('Spatial Lag of Gini Index')\n",
    "plt.title(\"Moran's Plot: Relative Inequality\")\n",
    "\n",
    "plt.axvline(0, c='black', alpha=0.5)\n",
    "plt.axhline(0, c='black', alpha=0.5)\n",
    "\n",
    "ax.legend(bbox_to_anchor=(1.05, 1), loc='upper left')\n",
    "\n",
    "plt.show()"
   ]
  },
  {
   "cell_type": "markdown",
   "metadata": {
    "id": "1L-XIye8w0h7"
   },
   "source": [
    "***Figure 3: Interpretation:***"
   ]
  },
  {
   "cell_type": "markdown",
   "metadata": {
    "id": "du_oU-_6w0h-"
   },
   "source": [
    "Indeed, Northern Africa scores very low with regards to Gini, indicating there is relatively little inequality in that region. As expected, this trend continues, where equality in Western Africa is also relatively high, and gets lower when looking at Eastern, Central, and eventually Southern Africa."
   ]
  },
  {
   "cell_type": "markdown",
   "metadata": {
    "id": "nnyjEEr2w0iA"
   },
   "source": [
    "## Task 4: Choropleth Maps"
   ]
  },
  {
   "cell_type": "markdown",
   "metadata": {
    "id": "o5JDbgbqw0iD"
   },
   "source": [
    "Use the same two variables you used in Task 3 and create a Choropleth Map. A choropleth map is a type of map which uses differences in shading, colouring, or the placing of symbols within predefined areas to indicate the average values of a particular quantity in those areas. Do a research on color-blindness and how to avoid it in creating visualisation. Choose a color-blind proof colour combination. Indicate where you found it and why you trust it with color-blind proofness. \n",
    "\n",
    "\n",
    "Does the map correspond to the findings in Morans plot?\n"
   ]
  },
  {
   "cell_type": "markdown",
   "metadata": {
    "id": "IfRZoyebw0iF"
   },
   "source": [
    "***Chosen Colour map & motivation:*** "
   ]
  },
  {
   "cell_type": "markdown",
   "metadata": {
    "id": "IMZiF7S5LdwP"
   },
   "source": [
    "[Since 2015](https://www.youtube.com/watch?v=xAoljeRJ3lU), the authors of SciPy have set the matplotlib default color map to [Viridis](https://sjmgarnier.github.io/viridis/). This color map was designed to improve graph readability for readers with common forms of color blindness and/or color vision deficiency. The color maps are also perceptually-uniform, both in regular form and also when converted to black-and-white for printing. I use seaborn that is build on matplotlib, and thus uses Viridis as well.\n",
    "\n",
    "Since then, other [outlets](https://medium.com/analytics-vidhya/deep-dive-into-seaborn-palettes-7b5fae5a258e) such as this one have adapted the Viridis standard, which leads me to believe that it should be a suitable, color-blind proof color hue."
   ]
  },
  {
   "cell_type": "markdown",
   "metadata": {
    "id": "aK7Nv03wLm9u"
   },
   "source": [
    "***Choropleth Maps***"
   ]
  },
  {
   "cell_type": "markdown",
   "metadata": {},
   "source": [
    "### SDG4: Quality of Education"
   ]
  },
  {
   "cell_type": "code",
   "execution_count": 140,
   "metadata": {
    "id": "NQcZWllvLiEX"
   },
   "outputs": [
    {
     "data": {
      "text/plain": [
       "Text(0.5, 1.0, 'Loss in quality of education since pandemic (days of educational facility closures)')"
      ]
     },
     "execution_count": 140,
     "metadata": {},
     "output_type": "execute_result"
    },
    {
     "data": {
      "image/png": "[encoded data removed]",
      "text/plain": [
       "<Figure size 1000x1000 with 2 Axes>"
      ]
     },
     "metadata": {},
     "output_type": "display_data"
    }
   ],
   "source": [
    "fig, ax = plt.subplots(1, 1, figsize=(10, 10))\n",
    "\n",
    "africa_education_quality = gpd.GeoDataFrame(africa_education_quality, geometry='geometry')\n",
    "\n",
    "africa_education_quality.plot(column='unicef_total_closed', linewidth=0.8, ax=ax, edgecolor='0.8', missing_kwds={'color': 'grey', 'hatch': '///'})\n",
    "sm = plt.cm.ScalarMappable(norm=plt.Normalize(vmin=africa_education_quality['unicef_total_closed'].min(), vmax=africa_education_quality['unicef_total_closed'].max()))\n",
    "sm._A = []\n",
    "cbar = plt.colorbar(sm, ax=ax)\n",
    "\n",
    "ax.set_title(\"Loss in quality of education since pandemic (days of educational facility closures)\")"
   ]
  },
  {
   "cell_type": "markdown",
   "metadata": {},
   "source": [
    "***Figure 6: Interpretation:***"
   ]
  },
  {
   "cell_type": "markdown",
   "metadata": {},
   "source": [
    "Here it is hard to say anything about regional loss in quality of education, since there is a lot of data missing. West Africa seems relatively stable with regards to their loss in educational days. There does not seem to be an apparent difference between Mediterranean and Sub-Saharan African countries."
   ]
  },
  {
   "cell_type": "markdown",
   "metadata": {},
   "source": [
    "### SDG10: Inequality"
   ]
  },
  {
   "cell_type": "code",
   "execution_count": 138,
   "metadata": {},
   "outputs": [
    {
     "data": {
      "text/plain": [
       "Text(0.5, 1.0, 'Inequality in Africa in 2019 (Based on Gini Index, higher means less equal)')"
      ]
     },
     "execution_count": 138,
     "metadata": {},
     "output_type": "execute_result"
    },
    {
     "data": {
      "image/png": "[encoded data removed]",
      "text/plain": [
       "<Figure size 1000x1000 with 2 Axes>"
      ]
     },
     "metadata": {},
     "output_type": "display_data"
    }
   ],
   "source": [
    "fig, ax = plt.subplots(1, 1, figsize=(10, 10))\n",
    "\n",
    "africa_inequality = gpd.GeoDataFrame(africa_inequality, geometry='geometry')\n",
    "\n",
    "africa_inequality.plot(column='gini', linewidth=0.8, ax=ax, edgecolor='0.8', missing_kwds={'color': 'grey', 'hatch': '///'})\n",
    "sm = plt.cm.ScalarMappable(norm=plt.Normalize(vmin=africa_inequality['gini'].min(), vmax=africa_inequality['gini'].max()))\n",
    "sm._A = []\n",
    "cbar = plt.colorbar(sm, ax=ax)\n",
    "\n",
    "ax.set_title(\"Inequality in Africa in 2019 (Based on Gini Index, higher means less equal)\")"
   ]
  },
  {
   "cell_type": "markdown",
   "metadata": {
    "id": "YH2z2WA9w0iK"
   },
   "source": [
    "***Figure 5: Interpretation:***"
   ]
  },
  {
   "cell_type": "markdown",
   "metadata": {
    "id": "byLKma1lw0iK"
   },
   "source": [
    "Even though data for one of the few Mediterranean countries is missing (i.e. Libya), we we can seee a pretty striking difference between the Mediterranean and Sub-Saharan African countries in inequality. Whereas inequality in Mediterranean Africa seems to be relatively low, inequality in Sub-Saharan Africa countries is relatively high. As was first shown in figure 3, we can clearly see a trend when looking at relative inequality based on the gini score per country when looking at the more Southern African countries. The farther south, the higher the relative inequality in that region."
   ]
  },
  {
   "cell_type": "markdown",
   "metadata": {
    "id": "IKrnc1kuw0iO"
   },
   "source": [
    "## Task 5: Report"
   ]
  },
  {
   "cell_type": "markdown",
   "metadata": {
    "id": "h9OjKW1fw0iP"
   },
   "source": [
    "You visualized two variables related to your research questions. How would you interpret your findings and how does it help you to answer your research questions? \n",
    "\n",
    "Which extra variables would you like to use? What information are you missing in your current data? What kind of data could you use to improve your analysis?\n",
    "\n",
    "Try to answer your research questions and don't shy away from suggesting future research. "
   ]
  },
  {
   "cell_type": "markdown",
   "metadata": {
    "collapsed": true,
    "id": "HR3lfrZ1w0iQ"
   },
   "source": [
    "***Answer your research questions in 200-400 words:***"
   ]
  },
  {
   "cell_type": "markdown",
   "metadata": {
    "id": "sqrCzPTpMeKz"
   },
   "source": [
    "Regarding **SDG 4: Quality Education**\n",
    "- Research question: *Using COVID-19 school closure index as a proxy variable for SDG4, how does Sub-Saharan Africa compare to Mediterranean Africa in loss of education days between 2019 and 2021?*"
   ]
  },
  {
   "cell_type": "markdown",
   "metadata": {},
   "source": [
    "This assignment shows that relative to Sub-Saharan Africa, there does not seem to be an obvious difference in quality of education based on the COVID-19 school closure index. The fact that no difference could be spotted could be due to the relatively low amount of data that was in the used dataset. The only correlation between Mediterranean countries relative to the rest of the continent we observed, was the relative stability of lost education days in the region. Whereas the Sub-Saharan regions stood out in either their relatively low or high amount of lost education days, Mediterranean countries all seemed very stable with regard to this particular metric. "
   ]
  },
  {
   "cell_type": "markdown",
   "metadata": {},
   "source": [
    "\n",
    "Regarding **SDG 10: Reduced Inequalities**\n",
    "- Research question: *Using the Gini index as a proxy variable for SDG10, how did Sub-Saharan Africa compare to Mediterranean Africa in 2019?*\n",
    "\n",
    "**Note:** Gini indices measure inequality on a scale from zero, indicating perfect equality, to 100, indicating one person having all resources. Countries’ income Ginis typically lie within a range of 25 to 60.\n",
    "\n",
    "**Note:** For all research quesions we distinguish between Sub-Saharan Africa (i.e. Western, Southern, Central, and Eastern Africa) and Mediterranean Africa (Northern Africa)."
   ]
  },
  {
   "cell_type": "markdown",
   "metadata": {},
   "source": [
    "This assignment shows that relative to Sub-Saharan Africa, inequality in Mediterranean seems to be relatively low, based on the countries' Gini index. Additionally, as shown in the Moran Plots as well as the Chloropleth plot, this trend seems to be extended throughout the continent, where the further South a country is located on the continent, the higher the inequality in that country seems to be."
   ]
  },
  {
   "cell_type": "markdown",
   "metadata": {
    "id": "LbFgvbSCw0iR"
   },
   "source": [
    "## How do we grade this assignment?\n",
    "Please pay attention to the following points. We consider these in calculating your final grade.\n",
    "\n",
    "First of all, we check if you have handed in the Jupyter notebook as well as a .pdf and .html version."
   ]
  },
  {
   "cell_type": "markdown",
   "metadata": {
    "id": "9r1N_JjT5r96"
   },
   "source": [
    "1st part\n",
    "\n",
    "\n",
    "1.   We inspect the access to the correct shapefile from the link you have provides.\n",
    "2.   We consider if the shapefile is suitable for answering your research question.\n",
    "3. We consider your reasoning and motivation for selecting the shapefile.\n",
    "\n"
   ]
  },
  {
   "cell_type": "markdown",
   "metadata": {
    "id": "648KLNEJ6cqL"
   },
   "source": [
    "2nd part\n",
    "1. We consider the validity, scope and concreteness of the questions.\n",
    "2. We inspect the data sources.\n"
   ]
  },
  {
   "cell_type": "markdown",
   "metadata": {
    "id": "ANzSrboP7Gt_"
   },
   "source": [
    "3rd part\n",
    "1. We consider the Moran plots.\n",
    "2. We consider the interpretations of the plots."
   ]
  },
  {
   "cell_type": "markdown",
   "metadata": {
    "id": "3JfE-Cdm7bmc"
   },
   "source": [
    "4th part\n",
    "1. We consider the choropleth maps.\n",
    "2. We consider the color scheme used in the maps and that a right process is used for selecting the color scheme."
   ]
  },
  {
   "cell_type": "markdown",
   "metadata": {
    "id": "TZKDmbeF-YE8"
   },
   "source": [
    "5th part \n",
    "1. We consider the quality of your report and if each research question is concretely answered. \n",
    "2. We consider your reflection on the data you used.\n",
    "3. We consider the interpretations deduced from the plots.\n",
    "4. We consider your ideas for additional data and further research.\n"
   ]
  }
 ],
 "metadata": {
  "colab": {
   "collapsed_sections": [],
   "name": "Assignment_2_SpatialData.ipynb",
   "provenance": []
  },
  "kernelspec": {
   "display_name": "Python 3",
   "language": "python",
   "name": "python3"
  },
  "language_info": {
   "codemirror_mode": {
    "name": "ipython",
    "version": 3
   },
   "file_extension": ".py",
   "mimetype": "text/x-python",
   "name": "python",
   "nbconvert_exporter": "python",
   "pygments_lexer": "ipython3",
   "version": "3.9.17"
  }
 },
 "nbformat": 4,
 "nbformat_minor": 1
}
